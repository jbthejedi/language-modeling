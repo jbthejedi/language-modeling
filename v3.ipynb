{
 "cells": [
  {
   "cell_type": "code",
   "execution_count": 1,
   "id": "27923a2e-5509-46f4-9ce5-c20e4e565bc1",
   "metadata": {},
   "outputs": [],
   "source": [
    "%load_ext autoreload\n",
    "%autoreload 2"
   ]
  },
  {
   "cell_type": "code",
   "execution_count": 2,
   "id": "d660d5b8-e59c-4f38-bea9-4d4e3a667748",
   "metadata": {},
   "outputs": [
    {
     "name": "stdout",
     "output_type": "stream",
     "text": [
      "Head n_embd 12\n",
      "Head head_size 3\n",
      "Head n_embd 12\n",
      "Head head_size 3\n",
      "Head n_embd 12\n",
      "Head head_size 3\n",
      "Head n_embd 12\n",
      "Head head_size 3\n",
      "tensor([[0]])\n",
      "\n",
      "?BEfSPi !HWDUBJGj!JdAADJk',VAHcliOtXU\n",
      "URqq,zDjXRD&lFsAQ$3pNCndRzQN,AgI: bqvI'd'dLEef.ixB\n",
      "hGJUFUTUDCD\n",
      "step 0 train_loss 4.1592, val loss 4.1578\n",
      "step 200 train_loss 3.3011, val loss 3.3474\n",
      "step 400 train_loss 3.2859, val loss 3.2814\n",
      "step 600 train_loss 3.2463, val loss 3.2716\n",
      "step 800 train_loss 3.1936, val loss 3.2079\n",
      "step 1000 train_loss 3.1239, val loss 3.1316\n"
     ]
    },
    {
     "name": "stderr",
     "output_type": "stream",
     "text": [
      "\n",
      "KeyboardInterrupt\n",
      "\n"
     ]
    }
   ],
   "source": [
    "import v3\n",
    "v3.main()"
   ]
  },
  {
   "cell_type": "code",
   "execution_count": null,
   "id": "f7fbd003-3ee9-4199-9018-93a8f57a299b",
   "metadata": {},
   "outputs": [],
   "source": []
  }
 ],
 "metadata": {
  "kernelspec": {
   "display_name": "Python 3 (ipykernel)",
   "language": "python",
   "name": "python3"
  },
  "language_info": {
   "codemirror_mode": {
    "name": "ipython",
    "version": 3
   },
   "file_extension": ".py",
   "mimetype": "text/x-python",
   "name": "python",
   "nbconvert_exporter": "python",
   "pygments_lexer": "ipython3",
   "version": "3.10.16"
  }
 },
 "nbformat": 4,
 "nbformat_minor": 5
}
