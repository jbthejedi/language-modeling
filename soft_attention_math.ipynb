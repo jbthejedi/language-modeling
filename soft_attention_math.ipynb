{
 "cells": [
  {
   "cell_type": "markdown",
   "id": "4cd4adec-bf6f-41bd-bf07-75d1d3a8af21",
   "metadata": {},
   "source": [
    "Soft attention"
   ]
  },
  {
   "cell_type": "code",
   "execution_count": 269,
   "id": "02743ce1-fe93-4b2c-83f5-405a6ebb21e0",
   "metadata": {},
   "outputs": [
    {
     "data": {
      "text/plain": [
       "tensor([[[-2.0283e-01, -2.9636e-02],\n",
       "         [-1.2707e+00, -1.2419e+00],\n",
       "         [-5.3988e-01, -9.2655e-01],\n",
       "         [-8.1259e-01,  2.1281e-01],\n",
       "         [ 5.7511e-01, -7.7577e-02],\n",
       "         [ 2.8254e-01,  2.4614e+00],\n",
       "         [-1.1356e+00, -1.6250e+00],\n",
       "         [ 2.8339e-01, -4.6683e-01]],\n",
       "\n",
       "        [[-1.9809e-01,  1.3813e+00],\n",
       "         [-1.4434e+00, -5.6835e-01],\n",
       "         [ 1.7345e+00,  1.6113e+00],\n",
       "         [-1.3448e+00,  4.0443e-01],\n",
       "         [ 6.6593e-01, -1.8187e+00],\n",
       "         [ 8.6277e-01, -1.7888e+00],\n",
       "         [ 1.9954e+00,  1.3009e+00],\n",
       "         [ 1.8678e+00,  6.0636e-01]],\n",
       "\n",
       "        [[-2.4219e+00, -1.7908e+00],\n",
       "         [ 5.5150e-01,  9.5523e-02],\n",
       "         [-6.9393e-01, -6.5913e-01],\n",
       "         [ 1.1158e+00,  5.8596e-02],\n",
       "         [ 7.5807e-01, -2.6251e+00],\n",
       "         [-8.7780e-01,  3.5585e-01],\n",
       "         [ 3.2531e-01,  4.6225e-01],\n",
       "         [-3.5128e-01, -1.0840e-01]],\n",
       "\n",
       "        [[-6.8826e-01,  3.0371e-01],\n",
       "         [ 2.1860e+00,  2.0890e+00],\n",
       "         [ 1.2049e+00,  1.2339e+00],\n",
       "         [ 7.7814e-01,  7.9214e-01],\n",
       "         [-6.1403e-01, -7.0400e-01],\n",
       "         [ 2.7873e-01,  1.0053e-03],\n",
       "         [-6.9108e-01, -1.2139e+00],\n",
       "         [-2.9397e-01,  2.9069e-01]]])"
      ]
     },
     "execution_count": 269,
     "metadata": {},
     "output_type": "execute_result"
    }
   ],
   "source": [
    "x = torch.randn(B, T, C)\n",
    "x"
   ]
  },
  {
   "cell_type": "code",
   "execution_count": 256,
   "id": "326a87c0-6b42-43df-9d8b-f0c807026d5f",
   "metadata": {},
   "outputs": [
    {
     "data": {
      "text/plain": [
       "tensor([[1., 0., 0., 0., 0., 0., 0., 0.],\n",
       "        [1., 1., 0., 0., 0., 0., 0., 0.],\n",
       "        [1., 1., 1., 0., 0., 0., 0., 0.],\n",
       "        [1., 1., 1., 1., 0., 0., 0., 0.],\n",
       "        [1., 1., 1., 1., 1., 0., 0., 0.],\n",
       "        [1., 1., 1., 1., 1., 1., 0., 0.],\n",
       "        [1., 1., 1., 1., 1., 1., 1., 0.],\n",
       "        [1., 1., 1., 1., 1., 1., 1., 1.]])"
      ]
     },
     "execution_count": 256,
     "metadata": {},
     "output_type": "execute_result"
    }
   ],
   "source": [
    "B, T, C = 4, 8, 2\n",
    "wei = torch.tril(torch.ones(T, T))\n",
    "wei"
   ]
  },
  {
   "cell_type": "code",
   "execution_count": 265,
   "id": "41ecda28-34c1-48bc-b83c-8aedbe761011",
   "metadata": {},
   "outputs": [
    {
     "data": {
      "text/plain": [
       "tensor([[1.],\n",
       "        [2.],\n",
       "        [3.],\n",
       "        [4.],\n",
       "        [5.],\n",
       "        [6.],\n",
       "        [7.],\n",
       "        [8.]])"
      ]
     },
     "execution_count": 265,
     "metadata": {},
     "output_type": "execute_result"
    }
   ],
   "source": [
    "S = wei.sum(1, keepdim=True)\n",
    "S"
   ]
  },
  {
   "cell_type": "code",
   "execution_count": 267,
   "id": "05d723a2-0255-4b3b-9fff-42f5ccd2c08b",
   "metadata": {},
   "outputs": [
    {
     "data": {
      "text/plain": [
       "tensor([[1.0000, 0.0000, 0.0000, 0.0000, 0.0000, 0.0000, 0.0000, 0.0000],\n",
       "        [0.2500, 0.2500, 0.0000, 0.0000, 0.0000, 0.0000, 0.0000, 0.0000],\n",
       "        [0.1111, 0.1111, 0.1111, 0.0000, 0.0000, 0.0000, 0.0000, 0.0000],\n",
       "        [0.0625, 0.0625, 0.0625, 0.0625, 0.0000, 0.0000, 0.0000, 0.0000],\n",
       "        [0.0400, 0.0400, 0.0400, 0.0400, 0.0400, 0.0000, 0.0000, 0.0000],\n",
       "        [0.0278, 0.0278, 0.0278, 0.0278, 0.0278, 0.0278, 0.0000, 0.0000],\n",
       "        [0.0204, 0.0204, 0.0204, 0.0204, 0.0204, 0.0204, 0.0204, 0.0000],\n",
       "        [0.0156, 0.0156, 0.0156, 0.0156, 0.0156, 0.0156, 0.0156, 0.0156]])"
      ]
     },
     "execution_count": 267,
     "metadata": {},
     "output_type": "execute_result"
    }
   ],
   "source": [
    "wei = wei / S\n",
    "wei"
   ]
  },
  {
   "cell_type": "code",
   "execution_count": null,
   "id": "24c8b7de-4759-4a61-878f-7aad2a6149d2",
   "metadata": {},
   "outputs": [],
   "source": [
    "xbow = wei @ "
   ]
  }
 ],
 "metadata": {
  "kernelspec": {
   "display_name": "Python 3 (ipykernel)",
   "language": "python",
   "name": "python3"
  },
  "language_info": {
   "codemirror_mode": {
    "name": "ipython",
    "version": 3
   },
   "file_extension": ".py",
   "mimetype": "text/x-python",
   "name": "python",
   "nbconvert_exporter": "python",
   "pygments_lexer": "ipython3",
   "version": "3.10.16"
  }
 },
 "nbformat": 4,
 "nbformat_minor": 5
}
