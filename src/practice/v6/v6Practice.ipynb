{
 "cells": [
  {
   "cell_type": "code",
   "execution_count": 1,
   "id": "27923a2e-5509-46f4-9ce5-c20e4e565bc1",
   "metadata": {},
   "outputs": [],
   "source": [
    "%load_ext autoreload\n",
    "%autoreload 2"
   ]
  },
  {
   "cell_type": "code",
   "execution_count": 2,
   "id": "dadab05a-499d-43db-8678-7d38ee0e1c23",
   "metadata": {},
   "outputs": [],
   "source": [
    "# import v6_practice_data_loader as vp"
   ]
  },
  {
   "cell_type": "code",
   "execution_count": 3,
   "id": "f2b115e8-c922-4a1e-827f-708997947524",
   "metadata": {
    "scrolled": true
   },
   "outputs": [],
   "source": [
    "# vp.main()"
   ]
  },
  {
   "cell_type": "code",
   "execution_count": 4,
   "id": "edf0da77-4647-4a42-8130-4f04d2f36e36",
   "metadata": {},
   "outputs": [],
   "source": [
    "import v6_practice2 as vp"
   ]
  },
  {
   "cell_type": "code",
   "execution_count": 10,
   "id": "75d3dcc1-fc6e-44ac-8fa0-89378788c515",
   "metadata": {},
   "outputs": [
    {
     "name": "stdout",
     "output_type": "stream",
     "text": [
      "train loss 4.4416 val loss 4.4465\n",
      "train loss 2.5037 val loss 2.5152\n",
      "train loss 2.3482 val loss 2.3549\n",
      "train loss 2.2598 val loss 2.2846\n",
      "train loss 2.1952 val loss 2.2176\n",
      "train loss 2.1464 val loss 2.1757\n",
      "train loss 2.1048 val loss 2.1421\n",
      "train loss 2.0664 val loss 2.1123\n",
      "train loss 2.0379 val loss 2.0896\n",
      "train loss 2.0070 val loss 2.0708\n",
      "train loss 1.9851 val loss 2.0521\n",
      "train loss 1.9652 val loss 2.0401\n",
      "train loss 1.9494 val loss 2.0290\n",
      "train loss 1.9255 val loss 2.0182\n",
      "train loss 1.9103 val loss 2.0132\n",
      "\n",
      "Alood! I him\n",
      "Gews mentle thine\n",
      "thou hard.\n",
      "\n",
      "MERKINGBE:\n",
      "Ford my keare.\n",
      "\n",
      "CUISA:\n",
      "Taket is tife fear lovess, regtces wours as mean liss, Forbas all as dacci plenry in a' faily no her plaken, ful.\n",
      "\n",
      "ThiS Kis to wongas\n",
      "Fild not shere,\n",
      "be condamel would whe dim and frouse.\n",
      "\n",
      "ELBUSTO:\n",
      "Dow, my full.\n",
      "\n",
      "CALOUTICK:\n",
      "He stee I gils.\n",
      "I That Pucted on the plost-sient drear.\n",
      "Iw are\n",
      "Lord so and ale!\n",
      "\n",
      "QEEN:\n",
      "Go, vive thou are 'st.\n",
      "The warroud Ser be vowas im leteed it the\n",
      "God thuck's is vow murte for, 's morly thee, and seevond dest we shat:\n",
      "To wo knoow; thou lept os is thee togh, I\n",
      "Ensticge\n",
      "Which in with they\n",
      "Boolme the are this would kar.'d: Was od.\n",
      "\n",
      "MUCANDENGS:\n",
      "His leave she-cin; butigh me is our notie.\n",
      "\n",
      "Whose put me to the tibe harter fithst thys it homand evint it forsester\n",
      "bot; I'll he a grace; But twhen by our,\n",
      "Is nome my his istay!\n",
      "Yord will the's his is rime hangm tought bragre orther fold, all:\n",
      "Dows: urvights upep ace crangess shart pareis up of bratited and Pope thess ford coul. I will to ownst sco\n"
     ]
    }
   ],
   "source": [
    "vp.main()"
   ]
  },
  {
   "cell_type": "code",
   "execution_count": null,
   "id": "a641ca09-eb91-4eb9-9959-9a3aa70e3a9c",
   "metadata": {},
   "outputs": [],
   "source": []
  }
 ],
 "metadata": {
  "kernelspec": {
   "display_name": "Python 3 (ipykernel)",
   "language": "python",
   "name": "python3"
  },
  "language_info": {
   "codemirror_mode": {
    "name": "ipython",
    "version": 3
   },
   "file_extension": ".py",
   "mimetype": "text/x-python",
   "name": "python",
   "nbconvert_exporter": "python",
   "pygments_lexer": "ipython3",
   "version": "3.10.16"
  }
 },
 "nbformat": 4,
 "nbformat_minor": 5
}
