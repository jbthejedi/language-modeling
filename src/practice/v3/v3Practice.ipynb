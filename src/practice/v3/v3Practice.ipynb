{
 "cells": [
  {
   "cell_type": "code",
   "execution_count": 1,
   "id": "27923a2e-5509-46f4-9ce5-c20e4e565bc1",
   "metadata": {},
   "outputs": [],
   "source": [
    "%load_ext autoreload\n",
    "%autoreload 2"
   ]
  },
  {
   "cell_type": "code",
   "execution_count": 15,
   "id": "089b6ead-17e9-4d4c-8c9b-6c5114a52969",
   "metadata": {},
   "outputs": [],
   "source": [
    "import v3_practice2 as vp\n",
    "# import v4_practice1 as vp"
   ]
  },
  {
   "cell_type": "code",
   "execution_count": null,
   "id": "eac92db8-d8fd-4b3e-ad8e-dd57759f7695",
   "metadata": {},
   "outputs": [],
   "source": [
    "vp.main()"
   ]
  },
  {
   "cell_type": "code",
   "execution_count": null,
   "id": "07a4f08c-c323-4df4-bca0-0b8f9dcdae4b",
   "metadata": {},
   "outputs": [],
   "source": []
  }
 ],
 "metadata": {
  "kernelspec": {
   "display_name": "Python 3 (ipykernel)",
   "language": "python",
   "name": "python3"
  },
  "language_info": {
   "codemirror_mode": {
    "name": "ipython",
    "version": 3
   },
   "file_extension": ".py",
   "mimetype": "text/x-python",
   "name": "python",
   "nbconvert_exporter": "python",
   "pygments_lexer": "ipython3",
   "version": "3.10.16"
  }
 },
 "nbformat": 4,
 "nbformat_minor": 5
}
