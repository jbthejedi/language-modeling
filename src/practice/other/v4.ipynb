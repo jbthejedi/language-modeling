{
 "cells": [
  {
   "cell_type": "code",
   "execution_count": 1,
   "id": "27923a2e-5509-46f4-9ce5-c20e4e565bc1",
   "metadata": {},
   "outputs": [],
   "source": [
    "%load_ext autoreload\n",
    "%autoreload 2"
   ]
  },
  {
   "cell_type": "code",
   "execution_count": null,
   "id": "d660d5b8-e59c-4f38-bea9-4d4e3a667748",
   "metadata": {},
   "outputs": [],
   "source": [
    "# import v3\n",
    "# v3.main()"
   ]
  },
  {
   "cell_type": "code",
   "execution_count": 1,
   "id": "f7fbd003-3ee9-4199-9018-93a8f57a299b",
   "metadata": {},
   "outputs": [],
   "source": [
    "import torch\n",
    "from layernorm import LayerNorm"
   ]
  },
  {
   "cell_type": "code",
   "execution_count": 3,
   "id": "deddd9e9-05a7-4ee3-a8cb-a68a202d39f7",
   "metadata": {},
   "outputs": [
    {
     "name": "stdout",
     "output_type": "stream",
     "text": [
      "torch.Size([32, 100])\n",
      "tensor([ 0.0315, -0.7419, -0.2978,  0.0172, -0.1772, -0.1334,  0.2940,  1.3850,\n",
      "         0.1209,  2.5418, -0.6405, -1.9740, -0.3296,  0.0080,  0.9262, -1.8846,\n",
      "         0.1670,  0.4586, -1.7662,  0.5860,  1.7510,  0.2807,  0.3110, -0.6538,\n",
      "        -0.6576,  0.3184, -0.5496, -1.4649, -2.0555,  1.8275,  1.3035, -0.4501,\n",
      "         1.3471,  1.6910, -0.1244, -1.6824, -0.0266,  0.0740,  1.0517,  0.6779,\n",
      "         0.3067, -0.7472,  0.7435,  0.8877,  2.2874,  0.9611, -1.5297, -0.2912,\n",
      "        -0.1140, -0.3137, -0.6293,  1.1385, -0.9913,  0.1700,  1.2249, -0.2345,\n",
      "        -1.0572, -0.6543,  1.5909, -0.6995, -0.8961,  0.0662, -0.0563,  2.3412,\n",
      "        -2.7234,  0.5097, -0.8145, -0.2460,  0.0045,  2.0474, -0.1575, -0.2187,\n",
      "        -1.3519, -0.0573, -1.8540, -1.3849, -0.3454, -1.1625,  0.1445,  0.1663,\n",
      "         0.7507,  0.9132, -1.7277,  1.3055,  0.9593,  1.0600,  0.6299, -1.2867,\n",
      "        -0.6875,  2.1382,  0.5114,  1.2191,  0.1910, -0.3425,  1.7955,  1.3915,\n",
      "         1.0785, -0.6150, -0.4589,  0.5675])\n",
      "torch.Size([32, 100])\n",
      "tensor([-0.0353, -0.7439, -0.3371, -0.0485, -0.2266, -0.1865,  0.2051,  1.2046,\n",
      "         0.0465,  2.2644, -0.6510, -1.8727, -0.3662, -0.0570,  0.7843, -1.7908,\n",
      "         0.0887,  0.3559, -1.6824,  0.4726,  1.5400,  0.1929,  0.2206, -0.6632,\n",
      "        -0.6667,  0.2275, -0.5678, -1.4063, -1.9474,  1.6100,  1.1300, -0.4766,\n",
      "         1.1699,  1.4849, -0.1783, -1.6056, -0.0886,  0.0036,  0.8993,  0.5568,\n",
      "         0.2167, -0.7488,  0.6169,  0.7490,  2.0314,  0.8163, -1.4657, -0.3311,\n",
      "        -0.1686, -0.3516, -0.6408,  0.9788, -0.9724,  0.0915,  1.0579, -0.2791,\n",
      "        -1.0328, -0.6637,  1.3932, -0.7051, -0.8852, -0.0036, -0.1158,  2.0807,\n",
      "        -2.5593,  0.4027, -0.8104, -0.2897, -0.0601,  1.8115, -0.2086, -0.2646,\n",
      "        -1.3028, -0.1167, -1.7628, -1.3330, -0.3807, -1.1293,  0.0681,  0.0881,\n",
      "         0.6235,  0.7724, -1.6471,  1.1318,  0.8146,  0.9068,  0.5128, -1.2430,\n",
      "        -0.6941,  1.8947,  0.4043,  1.0526,  0.1107, -0.3780,  1.5807,  1.2105,\n",
      "         0.9238, -0.6276, -0.4846,  0.4556])\n"
     ]
    }
   ],
   "source": [
    "torch.manual_seed(1337)\n",
    "d = 100\n",
    "b = 32\n",
    "module = LayerNorm(d)\n",
    "x = torch.randn(b, d) # batch size 32 of 100 dimensional vectors\n",
    "print(x.shape)\n",
    "print(x[1,:])\n",
    "# print(x)\n",
    "x = module(x)\n",
    "print(x.shape)\n",
    "print(x[1,:])\n",
    "# print(x[1,:].shape)"
   ]
  },
  {
   "cell_type": "markdown",
   "id": "3e3cfc91-ef3d-4b04-b594-a19b7646736b",
   "metadata": {},
   "source": [
    "### Example of keepdim"
   ]
  },
  {
   "cell_type": "code",
   "execution_count": 16,
   "id": "1e6a75e8-7048-4bbc-b37f-a04252d36b26",
   "metadata": {
    "scrolled": true
   },
   "outputs": [
    {
     "name": "stdout",
     "output_type": "stream",
     "text": [
      "torch.Size([2, 3])\n",
      "tensor([[1., 2., 3.],\n",
      "        [4., 5., 6.]])\n",
      "torch.Size([2])\n",
      "tensor([2., 5.])\n"
     ]
    }
   ],
   "source": [
    "import torch\n",
    "\n",
    "x = torch.tensor([[1.0, 2.0, 3.0], \n",
    "                  [4.0, 5.0, 6.0]])\n",
    "\n",
    "print(x.shape)\n",
    "print(x)\n",
    "mean_no_keepdim = x.mean(1)\n",
    "print(mean_no_keepdim.shape)  # Output: torch.Size([2])\n",
    "print(mean_no_keepdim)"
   ]
  },
  {
   "cell_type": "code",
   "execution_count": 14,
   "id": "f8c58650-f58f-4ae2-992b-e94c36cec9d8",
   "metadata": {},
   "outputs": [
    {
     "name": "stdout",
     "output_type": "stream",
     "text": [
      "torch.Size([2, 1])\n",
      "tensor([[2.],\n",
      "        [5.]])\n"
     ]
    }
   ],
   "source": [
    "mean_keepdim = x.mean(1, keepdim=True)\n",
    "print(mean_keepdim.shape)  # Output: torch.Size([2])\n",
    "print(mean_keepdim)"
   ]
  },
  {
   "cell_type": "code",
   "execution_count": null,
   "id": "de3b5241-687c-4ed2-8e6b-e279078d9dd9",
   "metadata": {},
   "outputs": [],
   "source": []
  }
 ],
 "metadata": {
  "kernelspec": {
   "display_name": "Python 3 (ipykernel)",
   "language": "python",
   "name": "python3"
  },
  "language_info": {
   "codemirror_mode": {
    "name": "ipython",
    "version": 3
   },
   "file_extension": ".py",
   "mimetype": "text/x-python",
   "name": "python",
   "nbconvert_exporter": "python",
   "pygments_lexer": "ipython3",
   "version": "3.10.16"
  }
 },
 "nbformat": 4,
 "nbformat_minor": 5
}
