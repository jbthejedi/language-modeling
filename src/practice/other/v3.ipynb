{
 "cells": [
  {
   "cell_type": "code",
   "execution_count": 1,
   "id": "27923a2e-5509-46f4-9ce5-c20e4e565bc1",
   "metadata": {},
   "outputs": [],
   "source": [
    "%load_ext autoreload\n",
    "%autoreload 2"
   ]
  },
  {
   "cell_type": "code",
   "execution_count": null,
   "id": "d660d5b8-e59c-4f38-bea9-4d4e3a667748",
   "metadata": {},
   "outputs": [],
   "source": [
    "# import v3\n",
    "# v3.main()"
   ]
  },
  {
   "cell_type": "code",
   "execution_count": null,
   "id": "de3b5241-687c-4ed2-8e6b-e279078d9dd9",
   "metadata": {},
   "outputs": [],
   "source": []
  }
 ],
 "metadata": {
  "kernelspec": {
   "display_name": "Python 3 (ipykernel)",
   "language": "python",
   "name": "python3"
  },
  "language_info": {
   "codemirror_mode": {
    "name": "ipython",
    "version": 3
   },
   "file_extension": ".py",
   "mimetype": "text/x-python",
   "name": "python",
   "nbconvert_exporter": "python",
   "pygments_lexer": "ipython3",
   "version": "3.10.16"
  }
 },
 "nbformat": 4,
 "nbformat_minor": 5
}
