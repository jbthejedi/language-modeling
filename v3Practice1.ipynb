{
 "cells": [
  {
   "cell_type": "code",
   "execution_count": null,
   "id": "ba771cb0-f96a-4e08-b349-f5fc502f1047",
   "metadata": {},
   "outputs": [],
   "source": [
    "%load_ext autoreload\n",
    "%autoreload 2"
   ]
  },
  {
   "cell_type": "code",
   "execution_count": 1,
   "id": "179fae06-10ca-4a54-9047-a032e3f278f1",
   "metadata": {},
   "outputs": [],
   "source": [
    "import numpy as np\n",
    "import torch\n",
    "from pathlib import Path\n",
    "import torch.nn as nn\n",
    "from torch.nn import functional as F\n",
    "\n",
    "torch.manual_seed(1337)\n",
    "device = 'cuda' if torch.cuda.is_available() else 'cpu'"
   ]
  },
  {
   "cell_type": "code",
   "execution_count": 2,
   "id": "903e6142-fc48-4d35-aba6-37b4426604b9",
   "metadata": {
    "scrolled": true
   },
   "outputs": [],
   "source": [
    "with Path(\"input.txt\").open(\"r\", encoding='utf-8') as f:\n",
    "    text = f.read()"
   ]
  },
  {
   "cell_type": "code",
   "execution_count": 11,
   "id": "a55c9dcc-5f93-4924-ab59-58e94f5b02b4",
   "metadata": {},
   "outputs": [
    {
     "name": "stdout",
     "output_type": "stream",
     "text": [
      "hii there\n"
     ]
    }
   ],
   "source": [
    "vocab = sorted(list(set(text)))\n",
    "vocab_size = len(vocab)\n",
    "\n",
    "stoi = { ch: i for i, ch in enumerate(vocab)}\n",
    "itos = { i: ch for i, ch in enumerate(vocab)}\n",
    "encode = lambda x: [stoi[s] for s in x]\n",
    "decode = lambda x: [itos[s] for s in x]\n",
    "\n",
    "enc = encode(\"hii there\")\n",
    "print(\"\".join(decode(enc)))"
   ]
  },
  {
   "cell_type": "code",
   "execution_count": 12,
   "id": "1d9a83c3-78d4-4f6c-9780-014bd96c48d0",
   "metadata": {},
   "outputs": [],
   "source": [
    "data = torch.tensor(encode(text), dtype=torch.long)\n",
    "n = int(0.9 * len(data))\n",
    "train_data = data[:n]\n",
    "val_data = data[n:]"
   ]
  },
  {
   "cell_type": "code",
   "execution_count": 13,
   "id": "40b6d8b1-e28e-49da-bc89-79aaa5591d31",
   "metadata": {},
   "outputs": [],
   "source": [
    "batch_size = 4 # B\n",
    "block_size = 8 # T\n",
    "n_embd = 16 # C"
   ]
  },
  {
   "cell_type": "code",
   "execution_count": 14,
   "id": "798bcdf1-e646-4611-afa2-77c889b689f1",
   "metadata": {},
   "outputs": [
    {
     "data": {
      "text/plain": [
       "1115394"
      ]
     },
     "execution_count": 14,
     "metadata": {},
     "output_type": "execute_result"
    }
   ],
   "source": [
    "len(data)"
   ]
  },
  {
   "cell_type": "code",
   "execution_count": 15,
   "id": "9e47665f-7c49-42c7-9336-db47ca7c9261",
   "metadata": {},
   "outputs": [
    {
     "name": "stdout",
     "output_type": "stream",
     "text": [
      "1003854\n"
     ]
    }
   ],
   "source": [
    "def get_batch(split):\n",
    "    data = train_data if split == 'train' else val_data\n",
    "    print(len(data))\n",
    "    # Select the starting index of a block of size block_size from data\n",
    "    ix = torch.randint(len(data) - block_size, (batch_size,)) \n",
    "    # print(ix[0])\n",
    "    x = torch.stack([data[i:i+block_size] for i in ix])\n",
    "    y = torch.stack([data[i+1:i+block_size+1] for i in ix])\n",
    "    x, y = x.to(device), y.to(device)\n",
    "    return x, y\n",
    "    \n",
    "xb, yb = get_batch('train')"
   ]
  },
  {
   "cell_type": "code",
   "execution_count": 22,
   "id": "d9cbf3d8-ed8f-41d9-b6c0-b90d83b23968",
   "metadata": {},
   "outputs": [],
   "source": [
    "class BLM(nn.Module):\n",
    "    def __init__(self):\n",
    "        super().__init__()\n",
    "        self.token_embedding_table = nn.Embedding(vocab_size, n_embd)\n",
    "        self.lm_head = nn.Linear(n_embd, vocab_size)\n",
    "\n",
    "    def forward(self, idx, targets):\n",
    "        # idx.shape = (B,T)\n",
    "        tok_emb = self.token_embedding_table(idx) # (B, T, C)\n",
    "        logits = self.lm_head(tok_emb)\n",
    "        B,T,C = logits.shape\n",
    "        logits = logits.view(B*T,C)\n",
    "        targets = targets.view(B*T)\n",
    "        \n",
    "        # cross_entropy expecting size (minibatch, C) = (minibatch, 16)\n",
    "        # cross_entropy turns all targets into OHEs\n",
    "        # behind the scenes so we don't need to explicitly\n",
    "        # transform them\n",
    "        loss = F.cross_entropy(logits, targets)\n",
    "        \n",
    "        return logits, loss"
   ]
  },
  {
   "cell_type": "code",
   "execution_count": 26,
   "id": "103fe178-9911-4c13-ac70-dcb5c7fa7fc0",
   "metadata": {},
   "outputs": [],
   "source": [
    "model = BLM()\n",
    "m = model.to(device)\n",
    "logits, loss = m(xb, yb)"
   ]
  },
  {
   "cell_type": "code",
   "execution_count": null,
   "id": "b7bfabab-666b-45f2-87c6-40ade3d0dc9e",
   "metadata": {},
   "outputs": [],
   "source": []
  }
 ],
 "metadata": {
  "kernelspec": {
   "display_name": "Python 3 (ipykernel)",
   "language": "python",
   "name": "python3"
  },
  "language_info": {
   "codemirror_mode": {
    "name": "ipython",
    "version": 3
   },
   "file_extension": ".py",
   "mimetype": "text/x-python",
   "name": "python",
   "nbconvert_exporter": "python",
   "pygments_lexer": "ipython3",
   "version": "3.10.16"
  }
 },
 "nbformat": 4,
 "nbformat_minor": 5
}
