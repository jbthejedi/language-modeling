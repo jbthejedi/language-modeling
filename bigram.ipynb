{
 "cells": [
  {
   "cell_type": "code",
   "execution_count": 201,
   "id": "9894556d-d476-4728-8ec9-99b324c671b9",
   "metadata": {},
   "outputs": [],
   "source": [
    "import numpy as np\n",
    "import torch\n",
    "\n",
    "device = 'cuda' if torch.cuda.is_available() else 'cpu'"
   ]
  },
  {
   "cell_type": "code",
   "execution_count": 5,
   "id": "c6a05fb7-bc41-406d-b570-1f0d636fbba5",
   "metadata": {},
   "outputs": [
    {
     "name": "stdout",
     "output_type": "stream",
     "text": [
      "--2025-01-17 14:35:37--  https://raw.githubusercontent.com/karpathy/char-rnn/master/data/tinyshakespeare/input.txt\n",
      "Resolving raw.githubusercontent.com (raw.githubusercontent.com)... 2606:50c0:8002::154, 2606:50c0:8003::154, 2606:50c0:8000::154, ...\n",
      "Connecting to raw.githubusercontent.com (raw.githubusercontent.com)|2606:50c0:8002::154|:443... connected.\n",
      "HTTP request sent, awaiting response... 200 OK\n",
      "Length: 1115394 (1.1M) [text/plain]\n",
      "Saving to: ‘input.txt’\n",
      "\n",
      "input.txt           100%[===================>]   1.06M  3.30MB/s    in 0.3s    \n",
      "\n",
      "2025-01-17 14:35:38 (3.30 MB/s) - ‘input.txt’ saved [1115394/1115394]\n",
      "\n"
     ]
    }
   ],
   "source": [
    "!wget https://raw.githubusercontent.com/karpathy/char-rnn/master/data/tinyshakespeare/input.txt"
   ]
  },
  {
   "cell_type": "code",
   "execution_count": 228,
   "id": "db846a64-2fd5-4793-9adb-769718dc9c1c",
   "metadata": {},
   "outputs": [],
   "source": [
    "from pathlib import Path"
   ]
  },
  {
   "cell_type": "code",
   "execution_count": 229,
   "id": "bfbecd18-37ac-4ad9-83e0-99ad5f5df027",
   "metadata": {},
   "outputs": [],
   "source": [
    "with Path(\"input.txt\").open(\"r\", encoding=\"utf-8\") as f:\n",
    "    text = f.read()"
   ]
  },
  {
   "cell_type": "code",
   "execution_count": 230,
   "id": "d64ca9e4-2e17-4079-b47d-8b5dc3a86f6f",
   "metadata": {
    "scrolled": true
   },
   "outputs": [
    {
     "name": "stdout",
     "output_type": "stream",
     "text": [
      "65\n",
      "\n",
      " !$&',-.3:;?ABCDEFGHIJKLMNOPQRSTUVWXYZabcdefghijklmnopqrstuvwxyz\n"
     ]
    }
   ],
   "source": [
    "chars = sorted(list(set(text)))\n",
    "vocab_size = len(chars)\n",
    "vocab = ''.join(chars)\n",
    "print(vocab_size)\n",
    "print(vocab)"
   ]
  },
  {
   "cell_type": "code",
   "execution_count": 231,
   "id": "c130cf04-fdd5-4b4b-b7f1-54d5ad0b2b94",
   "metadata": {},
   "outputs": [],
   "source": [
    "stoi = {ch: i for i, ch in enumerate(chars)}\n",
    "itos = {i: ch for i, ch in enumerate(chars)}"
   ]
  },
  {
   "cell_type": "code",
   "execution_count": 232,
   "id": "e491cd5b-09bf-4c9a-a2c7-3e33b3b6676a",
   "metadata": {},
   "outputs": [],
   "source": [
    "# take a string and output a list of ints\n",
    "encode = lambda s: [stoi[c] for c in s]\n",
    "decode = lambda e: \"\".join([itos[i] for i in e])\n",
    "# print(encode(\"hii there\"))\n",
    "# print(decode(encode(\"hii there\")))"
   ]
  },
  {
   "cell_type": "code",
   "execution_count": 233,
   "id": "96069d72-127a-43ce-b3e3-4a770073e536",
   "metadata": {
    "scrolled": true
   },
   "outputs": [],
   "source": [
    "# encode(text)"
   ]
  },
  {
   "cell_type": "code",
   "execution_count": 234,
   "id": "1c4921b0-9090-40e0-9eb5-33ae77c5cd80",
   "metadata": {
    "scrolled": true
   },
   "outputs": [],
   "source": [
    "data = torch.tensor(encode(text), dtype=torch.long)\n",
    "# print(data.shape, data.dtype)\n",
    "# print(data[:1000])"
   ]
  },
  {
   "cell_type": "code",
   "execution_count": 235,
   "id": "88f50be4-aade-4ac6-9e6d-996c02b1b0fe",
   "metadata": {},
   "outputs": [],
   "source": [
    "n = int(0.9 * len(data))\n",
    "train_data = data[:n]\n",
    "val_data = data[n:]"
   ]
  },
  {
   "cell_type": "code",
   "execution_count": 236,
   "id": "73d779d5-a95f-4209-8b32-29b4e9204fe6",
   "metadata": {},
   "outputs": [
    {
     "data": {
      "text/plain": [
       "tensor([18, 47, 56, 57, 58,  1, 15, 47, 58])"
      ]
     },
     "execution_count": 236,
     "metadata": {},
     "output_type": "execute_result"
    }
   ],
   "source": [
    "torch.manual_seed(1337)\n",
    "batch_size = 4\n",
    "block_size = 8\n",
    "max_iters = 3000\n",
    "eval_interval = 300\n",
    "learning_rate = 1e-2\n",
    "eval_iters = 200\n",
    "train_data[:block_size+1]"
   ]
  },
  {
   "cell_type": "code",
   "execution_count": 237,
   "id": "47ca5578-56a9-468d-8d8c-8b4ae23ce2ec",
   "metadata": {},
   "outputs": [],
   "source": [
    "def get_batch(split):\n",
    "    data = train_data if split == \"train\" else val_data\n",
    "    ix = torch.randint(len(data) - block_size, (batch_size,))\n",
    "    x = torch.stack([data[i:i+block_size] for i in ix])\n",
    "    y = torch.stack([data[i+1:i+block_size+1] for i in ix])\n",
    "    x, y = x.to(device), y.to(device)\n",
    "    return x, y"
   ]
  },
  {
   "cell_type": "code",
   "execution_count": 251,
   "id": "831b679b-7ff2-4d0a-a7c3-75390f2077a6",
   "metadata": {},
   "outputs": [],
   "source": [
    "@torch.no_grad() # we don't intend to do backprop so don't store all intermediate variables\n",
    "def estimate_loss():\n",
    "    out = {}\n",
    "    model.eval()\n",
    "    for split in ['train', 'val']:\n",
    "        losses = torch.zeros(eval_iters)\n",
    "        for k in range(eval_iters):\n",
    "            X, Y = get_batch(split)\n",
    "            logits, loss = model(X, Y)\n",
    "            losses[k] = loss.item()\n",
    "        out[split] = losses.mean()\n",
    "    model.train()\n",
    "    return out"
   ]
  },
  {
   "cell_type": "code",
   "execution_count": 239,
   "id": "c51ff973-5a17-407a-9b0b-7c5fbbb1897e",
   "metadata": {},
   "outputs": [],
   "source": [
    "# torch.randint(len(train_data) - block_size, (batch_size, ))\n",
    "xb, yb = get_batch(\"train\")\n",
    "# print(xb)\n",
    "# print(xb.shape)\n",
    "# print(yb)\n",
    "# print(yb.shape)"
   ]
  },
  {
   "cell_type": "code",
   "execution_count": 240,
   "id": "6cce4dc1-34dc-4872-abdb-9e2f46071885",
   "metadata": {
    "scrolled": true
   },
   "outputs": [],
   "source": [
    "import torch.nn as nn\n",
    "from torch.nn import functional as F\n",
    "\n",
    "class BigramLanguageModel(nn.Module):\n",
    "    \n",
    "    def __init__(self, vocab_size):\n",
    "        super().__init__()\n",
    "        \n",
    "        # Init at random a learnable embedding matrix\n",
    "        self.token_embedding_table = nn.Embedding(vocab_size, vocab_size)\n",
    "\n",
    "    def forward(self, idx, targets=None):\n",
    "        logits = self.token_embedding_table(idx) # (B, T, C)\n",
    "        if targets is None:\n",
    "            loss = None\n",
    "        else:\n",
    "            B, T, C = logits.shape\n",
    "            logits = logits.view(B*T, C)\n",
    "            targets = targets.view(B*T)\n",
    "            loss = F.cross_entropy(logits, targets)\n",
    "        return logits, loss\n",
    "\n",
    "    def generate(self, idx, max_new_tokens):\n",
    "        for i in range(max_new_tokens):\n",
    "            # print(i)\n",
    "            # Get the prediction for the next token given the previous token(s)\n",
    "            logits, _ = self(idx)\n",
    "            # Select the predictions only\n",
    "            # print('before')\n",
    "            # print(logits.shape)\n",
    "            # print(logits)\n",
    "            logits = logits[:, -1, :] # (B, C)\n",
    "            # print('after')\n",
    "            # print(logits.shape)\n",
    "            # print(logits)\n",
    "            # Run the logits (value of embedding vector weights) through\n",
    "            # softmax to get probability distribution\n",
    "            probs = F.softmax(logits, dim=-1) # (B, C)\n",
    "            # Sample from the distribution to get an index of a vector (a character)\n",
    "            idx_next = torch.multinomial(probs, num_samples=1) # (B, 1)\n",
    "            # Concatenate the idx to the current idx to create the next\n",
    "            # idx vector to pass into `self` (forward pass function)\n",
    "            idx = torch.cat((idx, idx_next), dim=1) # (B, T+1)\n",
    "            # print()\n",
    "        return idx"
   ]
  },
  {
   "cell_type": "code",
   "execution_count": 241,
   "id": "1b793568-b7c8-48b4-8cf1-9f3c0d2bc7a5",
   "metadata": {},
   "outputs": [],
   "source": [
    "model = BigramLanguageModel(vocab_size)\n",
    "m = model.to(device)\n",
    "logits, loss = m(xb, yb)\n",
    "# print(logits.shape)\n",
    "# print(loss)\n",
    "# print(logits[:, -1])"
   ]
  },
  {
   "cell_type": "code",
   "execution_count": 242,
   "id": "01c2129c-b3ef-4bcb-bc90-757d3f5f23bf",
   "metadata": {},
   "outputs": [
    {
     "data": {
      "text/plain": [
       "Embedding(65, 65)"
      ]
     },
     "execution_count": 242,
     "metadata": {},
     "output_type": "execute_result"
    }
   ],
   "source": [
    "emb = nn.Embedding(vocab_size, vocab_size)\n",
    "emb"
   ]
  },
  {
   "cell_type": "code",
   "execution_count": 243,
   "id": "2f018d50-5760-4a71-a708-db4aff71d851",
   "metadata": {},
   "outputs": [],
   "source": [
    "# emb will lookup and return a tensor of shape (m, vocab_size) or ((B, T), vocab_size)\n",
    "# of the vectors corresponding to the indices of the tensor you pass in\n",
    "# val = emb(torch.tensor((5, 39, 2, 58, 29)))\n",
    "# print(val.shape)"
   ]
  },
  {
   "cell_type": "code",
   "execution_count": 244,
   "id": "34cf2d21-6b14-4bef-9941-dce3a0c364ec",
   "metadata": {},
   "outputs": [
    {
     "name": "stdout",
     "output_type": "stream",
     "text": [
      "tensor([[0]])\n",
      "\n",
      "t:toIYl;hvsVaptQU!hvGTNg;GGOyX?o.z xUgHyqjDYDjG-s,Kp&TH!:F\n",
      "Xa,mWNuAMn'3p-vzuvgOY;XsHdvmvFVRlmJ'3bn$y\n"
     ]
    }
   ],
   "source": [
    "in_ = torch.zeros((1, 1), dtype=torch.long)\n",
    "print(in_)\n",
    "out = m.generate(in_, max_new_tokens=100)\n",
    "# print(out)\n",
    "print(decode(out[0].tolist()))"
   ]
  },
  {
   "cell_type": "code",
   "execution_count": 245,
   "id": "c19cf930-02b4-4b8c-9072-b7991ee4ea7a",
   "metadata": {},
   "outputs": [],
   "source": [
    "optimizer = torch.optim.AdamW(m.parameters(), lr=1e-3)"
   ]
  },
  {
   "cell_type": "code",
   "execution_count": 252,
   "id": "03f8ea96-3eb8-4f06-8772-93a5e1d8fe22",
   "metadata": {
    "scrolled": true
   },
   "outputs": [
    {
     "name": "stdout",
     "output_type": "stream",
     "text": [
      "step 0 train_loss 4.6407, val loss 4.6483\n",
      "step 200 train_loss 4.4183, val loss 4.4316\n",
      "step 400 train_loss 4.2116, val loss 4.2182\n",
      "step 600 train_loss 4.0313, val loss 4.0364\n",
      "step 800 train_loss 3.8490, val loss 3.8619\n",
      "step 1000 train_loss 3.6918, val loss 3.7116\n",
      "step 1200 train_loss 3.5512, val loss 3.5740\n",
      "step 1400 train_loss 3.4230, val loss 3.4389\n",
      "step 1600 train_loss 3.3124, val loss 3.3247\n",
      "step 1800 train_loss 3.1985, val loss 3.2304\n",
      "step 2000 train_loss 3.1157, val loss 3.1398\n",
      "step 2200 train_loss 3.0426, val loss 3.0484\n",
      "step 2400 train_loss 2.9763, val loss 2.9860\n",
      "step 2600 train_loss 2.9047, val loss 2.9320\n",
      "step 2800 train_loss 2.8484, val loss 2.8742\n",
      "2.9053354263305664\n"
     ]
    }
   ],
   "source": [
    "batch_size = 32\n",
    "for iter_ in range(max_iters):\n",
    "    if iter_ % eval_iters == 0:\n",
    "        losses = estimate_loss()\n",
    "        print(f\"step {iter_} train_loss {losses['train']:.4f}, val loss {losses['val']:.4f}\")\n",
    "    xb, yb = get_batch('train')\n",
    "    logits, loss = m(xb, yb)\n",
    "    optimizer.zero_grad(set_to_none=True)\n",
    "    loss.backward()\n",
    "    optimizer.step()\n",
    "    # print(loss.item())\n",
    "print(loss.item())"
   ]
  },
  {
   "cell_type": "code",
   "execution_count": null,
   "id": "b5842366-5b1e-4087-91a1-a199ccf7bf8e",
   "metadata": {},
   "outputs": [],
   "source": [
    "in_ = torch.zeros((1, 1), dtype=torch.long, device=device)\n",
    "print(in_)\n",
    "out = m.generate(in_, max_new_tokens=100)\n",
    "# print(out)\n",
    "print(decode(out[0].tolist()))"
   ]
  },
  {
   "cell_type": "markdown",
   "id": "4cd4adec-bf6f-41bd-bf07-75d1d3a8af21",
   "metadata": {},
   "source": [
    "Soft attention"
   ]
  }
 ],
 "metadata": {
  "kernelspec": {
   "display_name": "Python 3 (ipykernel)",
   "language": "python",
   "name": "python3"
  },
  "language_info": {
   "codemirror_mode": {
    "name": "ipython",
    "version": 3
   },
   "file_extension": ".py",
   "mimetype": "text/x-python",
   "name": "python",
   "nbconvert_exporter": "python",
   "pygments_lexer": "ipython3",
   "version": "3.10.16"
  }
 },
 "nbformat": 4,
 "nbformat_minor": 5
}
