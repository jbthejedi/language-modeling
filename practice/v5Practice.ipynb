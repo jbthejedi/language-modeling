{
 "cells": [
  {
   "cell_type": "code",
   "execution_count": 1,
   "id": "27923a2e-5509-46f4-9ce5-c20e4e565bc1",
   "metadata": {},
   "outputs": [],
   "source": [
    "%load_ext autoreload\n",
    "%autoreload 2"
   ]
  },
  {
   "cell_type": "code",
   "execution_count": 2,
   "id": "246b6c96-b247-4c7c-9c0d-49bdf3bb4a9f",
   "metadata": {},
   "outputs": [
    {
     "data": {
      "text/plain": [
       "<torch._C.Generator at 0x10b3e4bd0>"
      ]
     },
     "execution_count": 2,
     "metadata": {},
     "output_type": "execute_result"
    }
   ],
   "source": [
    "from pathlib import Path\n",
    "import torch\n",
    "\n",
    "DEVICE = 'cuda' if torch.cuda.is_available() else 'cpu'\n",
    "torch.manual_seed(1337)"
   ]
  },
  {
   "cell_type": "code",
   "execution_count": 3,
   "id": "089b6ead-17e9-4d4c-8c9b-6c5114a52969",
   "metadata": {},
   "outputs": [],
   "source": [
    "import v5_practice1 as vp"
   ]
  },
  {
   "cell_type": "code",
   "execution_count": 6,
   "id": "f0fa7ecd-3a1b-45e2-99a6-a18713222112",
   "metadata": {},
   "outputs": [],
   "source": [
    "with Path(\"../input.txt\").open(\"r\", encoding=\"utf-8\") as f:\n",
    "    text = f.read()\n",
    "\n",
    "block_size = 8\n",
    "batch_size = 32\n",
    "n_heads = 4\n",
    "n_embd = 32\n",
    "max_iters = 4000\n",
    "eval_iters = 200\n",
    "\n",
    "data = vp.Data(text)\n",
    "data.block_size = block_size\n",
    "data.batch_size = batch_size\n",
    "data.n_embd = n_embd"
   ]
  },
  {
   "cell_type": "code",
   "execution_count": 7,
   "id": "7db8c6fc-1900-4059-b919-1f448799dc9d",
   "metadata": {},
   "outputs": [],
   "source": [
    "# print(\"\".join(data.decode(data.encode(\"hi there\"))))\n",
    "# xb, yb = data.get_batch('train')\n",
    "# print(xb, yb)"
   ]
  },
  {
   "cell_type": "code",
   "execution_count": 8,
   "id": "2a7c28ab-2691-42a5-bb1b-bbfb5e3fd3a3",
   "metadata": {},
   "outputs": [],
   "source": [
    "# m = vp.LanguageModel(n_embd, block_size, data.vocab_size, n_heads)\n",
    "# out = m.generate(torch.zeros((1, 1), dtype=torch.long))\n",
    "# # out\n",
    "# print(\"\".join(data.decode(out[0].tolist())))"
   ]
  },
  {
   "cell_type": "code",
   "execution_count": null,
   "id": "34c86d2e-a166-4453-b258-fc4864886d29",
   "metadata": {
    "scrolled": true
   },
   "outputs": [
    {
     "name": "stdout",
     "output_type": "stream",
     "text": [
      "train loss 4.314807891845703 val loss 4.313204288482666\n",
      "train loss 2.6730310916900635 val loss 2.674984931945801\n",
      "train loss 2.4953665733337402 val loss 2.50203537940979\n",
      "train loss 2.427274465560913 val loss 2.4537932872772217\n",
      "train loss 2.3918449878692627 val loss 2.3824310302734375\n",
      "train loss 2.3352694511413574 val loss 2.347018241882324\n",
      "train loss 2.3211679458618164 val loss 2.321964979171753\n",
      "train loss 2.277582883834839 val loss 2.30521297454834\n"
     ]
    }
   ],
   "source": [
    "m = vp.LanguageModel(n_embd, block_size, data.vocab_size, n_heads)\n",
    "m = m.to(DEVICE)\n",
    "optimizer = torch.optim.AdamW(m.parameters(), lr=1e-3)\n",
    "for iter_ in range(max_iters):\n",
    "    if iter_ % eval_iters == 0:\n",
    "        out = data.estimate_loss(m, eval_iters)\n",
    "        print(f\"train loss {out['train']} val loss {out['val']}\")\n",
    "    xb, yb = data.get_batch('train')\n",
    "    logits, losses = m(xb, yb)\n",
    "    optimizer.zero_grad()\n",
    "    losses.backward()\n",
    "    optimizer.step()\n",
    "\n",
    "out = m.generate(torch.zeros((1, 1), dtype=torch.long))\n",
    "print(\"\".join(data.decode(out[0].tolist())))"
   ]
  },
  {
   "cell_type": "code",
   "execution_count": null,
   "id": "50906fbf-4eef-4b5f-b2fc-d3f3ff42373f",
   "metadata": {},
   "outputs": [],
   "source": []
  }
 ],
 "metadata": {
  "kernelspec": {
   "display_name": "Python 3 (ipykernel)",
   "language": "python",
   "name": "python3"
  },
  "language_info": {
   "codemirror_mode": {
    "name": "ipython",
    "version": 3
   },
   "file_extension": ".py",
   "mimetype": "text/x-python",
   "name": "python",
   "nbconvert_exporter": "python",
   "pygments_lexer": "ipython3",
   "version": "3.10.16"
  }
 },
 "nbformat": 4,
 "nbformat_minor": 5
}
