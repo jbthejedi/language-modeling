{
 "cells": [
  {
   "cell_type": "code",
   "execution_count": 1,
   "id": "089b6ead-17e9-4d4c-8c9b-6c5114a52969",
   "metadata": {},
   "outputs": [
    {
     "data": {
      "text/plain": [
       "<torch._C.Generator at 0x1047f1eb0>"
      ]
     },
     "execution_count": 1,
     "metadata": {},
     "output_type": "execute_result"
    }
   ],
   "source": [
    "from torch import nn\n",
    "from torch.nn import functional as F\n",
    "from pathlib import Path\n",
    "\n",
    "import torch\n",
    "\n",
    "device = 'cuda' if torch.cuda.is_available() else 'cpu'\n",
    "torch.manual_seed(1337)"
   ]
  },
  {
   "cell_type": "code",
   "execution_count": 2,
   "id": "60a4cac6-e3d0-453b-821b-6a4ce5232527",
   "metadata": {},
   "outputs": [
    {
     "name": "stdout",
     "output_type": "stream",
     "text": [
      "hii there\n"
     ]
    }
   ],
   "source": [
    "with Path('../input.txt').open('r', encoding='utf-8') as f:\n",
    "    text = f.read()\n",
    "\n",
    "vocab = sorted(list(set(text)))\n",
    "stoi = { ch: i for i, ch in enumerate(vocab) }\n",
    "itos = { i: ch for i, ch in enumerate(vocab) }\n",
    "encode = lambda x: [stoi[s] for s in x]\n",
    "decode = lambda x: [itos[s] for s in x]\n",
    "\n",
    "print(\"\".join(decode(encode(\"hii there\"))))"
   ]
  },
  {
   "cell_type": "code",
   "execution_count": 3,
   "id": "6cc21fdc-56d6-4a2a-ac45-211e019d80ca",
   "metadata": {},
   "outputs": [],
   "source": [
    "data = torch.tensor(encode(text), dtype=torch.long)\n",
    "n = int(0.9 * len(data))\n",
    "train_data = data[n:]\n",
    "val_data = data[:n]"
   ]
  },
  {
   "cell_type": "code",
   "execution_count": 4,
   "id": "4ccbc5c7-17f3-4218-856b-0346384216bf",
   "metadata": {},
   "outputs": [],
   "source": [
    "batch_size = 4\n",
    "block_size = 8\n",
    "n_embd = 12\n",
    "\n",
    "eval_iters = 200\n",
    "max_iters = 4000\n",
    "\n",
    "vocab_size = len(vocab)"
   ]
  },
  {
   "cell_type": "code",
   "execution_count": 5,
   "id": "752d8a92-72e8-435a-81d5-51540a64464c",
   "metadata": {},
   "outputs": [],
   "source": [
    "# torch.randint"
   ]
  },
  {
   "cell_type": "code",
   "execution_count": 6,
   "id": "c4580e39-667e-47e9-974e-c965e4c89c9d",
   "metadata": {},
   "outputs": [],
   "source": [
    "def get_batch(split, batch_size):\n",
    "    data = train_data if split == 'train' else val_data\n",
    "    ix = torch.randint(len(data) - block_size, (batch_size,))\n",
    "    x = torch.stack([data[i:i+block_size] for i in ix])\n",
    "    y = torch.stack([data[i+1:i+block_size+1] for i in ix])\n",
    "    x, y = x.to(device), y.to(device)\n",
    "    return x, y"
   ]
  },
  {
   "cell_type": "code",
   "execution_count": 7,
   "id": "34526351-93af-4497-a196-09f98c025aca",
   "metadata": {},
   "outputs": [],
   "source": [
    "# B, T, C = 4, 8, 6\n",
    "# x = torch.randn(B, T, C)\n",
    "# tril = torch.tril(torch.ones(T, T))\n",
    "# wei = torch.zeros(T, T)\n",
    "# wei = wei.masked_fill(tril == 0, float('-inf'))\n",
    "# wei = F.softmax(wei, dim=-1)\n",
    "# wei @ x"
   ]
  },
  {
   "cell_type": "code",
   "execution_count": 8,
   "id": "22f9c7ea-0acf-4acb-bcfc-31ff9f86a22b",
   "metadata": {},
   "outputs": [],
   "source": [
    "# class "
   ]
  },
  {
   "cell_type": "code",
   "execution_count": 9,
   "id": "a4b6d886-50c1-4d2a-a3ea-63fbaf3ffc98",
   "metadata": {},
   "outputs": [],
   "source": [
    "class LanguageModel(nn.Module):\n",
    "    def __init__(self, vocab_size, n_embd):\n",
    "        super().__init__()\n",
    "        self.token_embedding_table = nn.Embedding(vocab_size, n_embd)\n",
    "        self.lm_head = nn.Linear(n_embd, vocab_size)\n",
    "        # self.position_embedding_table = nn.Embedding(torch.arange(T))\n",
    "\n",
    "    def forward(self, idx, targets=None):\n",
    "        B, T = idx.shape\n",
    "        tok_emb = self.token_embedding_table(idx) # (B, T, C)\n",
    "        logits = self.lm_head(tok_emb) # (B, T, vocab_size)\n",
    "        if targets is None:\n",
    "            losses = None\n",
    "        else:\n",
    "            # targets.shape when cross_entropy turns them\n",
    "            # to OHE --> (B, T, vocab_size).\n",
    "            # cross_entropy needs shape (minibatch, C).\n",
    "            B, T, C = logits.shape\n",
    "            logits = logits.view(B*T, C)\n",
    "            targets = targets.view(B*T)\n",
    "            losses = F.cross_entropy(logits, targets)\n",
    "            # F.softmax(logits, dim=-1)\n",
    "        return logits, losses\n",
    "\n",
    "    def generate(self, idx, max_new_tokens=1000):\n",
    "        for _ in range(max_new_tokens):\n",
    "            # idx_cond = idx[:-batch_size:]\n",
    "            logits, _ = self(idx)\n",
    "            logits = logits[:,-1,:]\n",
    "            probs = F.softmax(logits, dim=-1)\n",
    "            idx_next = torch.multinomial(probs, num_samples=1)\n",
    "            idx = torch.cat([idx, idx_next], dim=1)\n",
    "        return idx"
   ]
  },
  {
   "cell_type": "code",
   "execution_count": 10,
   "id": "b780e88c-1c4d-4858-82fc-6235ce81ca2a",
   "metadata": {},
   "outputs": [],
   "source": [
    "m = LanguageModel(vocab_size, n_embd)\n",
    "m = m.to(device)\n",
    "\n",
    "# xb, yb = get_batch('train', batch_size)\n",
    "# logits, losses = m(xb, yb)\n",
    "# logits, losses"
   ]
  },
  {
   "cell_type": "code",
   "execution_count": 11,
   "id": "5ef42302-2d0f-4a3e-8469-0e8d6a7f456a",
   "metadata": {},
   "outputs": [
    {
     "name": "stdout",
     "output_type": "stream",
     "text": [
      "\n",
      "&JVyYSUXyll' IrpWnUkZnSJwTTWcELMoSbvE& X?GGnka33:PgqkWK.Yq;:JPP.FiwkHjTMFzbEHuxsbuwZweX?dOJGUGp\n",
      "wnY'mOwVWpeMsnDaXEOscLfJt-:Bpf&kWZpNKseO3\n",
      "bx&JwdYw-,x:zAd IRFbTZqQ\n",
      "bZeuuZthlXNzdXkU&Q;Y:PFi.v&BZG\n",
      ",&BAigqrT.c:Pq,kWfzetn3XVyX-YBfHkUTk&PvdTcSe.n'f,FJp?ARiOuQeUPXBxsPviq3GmHUr'rknJaWm&rIaIAnSL$Pq?Vgb\n",
      "RZni3cLvFbdn-tLhGpg\n",
      "Aa!GMdg  te.T?bTiW.XzRYiPlai3vs&\n",
      "$K.jx$n$? QWOfPmRJgrIAcmFp;b&b$sLxm:u3q3XAWrZEv IjjQ-y&wUCMC'erIPlwUu3n rOchXEsIYd qusPp&UdLMCKsdXXB$XkFMR,$a$yAMjWxd EX\n",
      ",EJC,$? VV$RUtZNC?KpFUWFjR$zl$dammFwpkTEX\n",
      "L.JYKexPaT\n",
      "kBAkxzEzS\n",
      "iQ jjkrVGn$v&yQVu\n",
      "&lKuzJK.JkWnqXilxaBaaPgJ;b$l3&uS.IWnMff!Gmmrhv3\n",
      "cMvqtNEem3h'JYy\n",
      "Hfy?ZICpzqL.r:CwagxLaLj-?Aer:I?uw&TxUTOBK.JAO-pFW'DhEs\n",
      "l'mUgbExLGh,\n",
      "oiIHw'-OWfyzI3MG JOwOBEpSgmy:kPqEd Nj3WePrFa?VykT3nuT:tKypJ.KfPFBUm3i$'FjF$c-rIekCuqp ATl$;\n",
      "yAVrwmRpxwiXelf&boD\n",
      "ytPvL!JD rvA&ANDFJhfFkT3Ra\n",
      "xpP$;lXzZIZtpPtsPIEPlUX'pH f?MLpaxUfy$AOvo3'\n",
      ":fBfRw&mqHQ,k.ttRFWFv'Ne:&xVHyFAqVAOq!Fv3EzteT'xhJnFMZYxwzGZqrpf&ZKnER,rITIHZ'WdXEJAX tO'EuIFYLg:iO$ mHPv\n",
      ";LjdLkxXV$bCEgeg!'$JcUPaSBZ$\n"
     ]
    }
   ],
   "source": [
    "_in = torch.zeros((1, 1), dtype=torch.long)\n",
    "out = m.generate(_in)\n",
    "print(\"\".join(decode(out[0].tolist())))"
   ]
  },
  {
   "cell_type": "code",
   "execution_count": null,
   "id": "9854106f-1151-4e15-843d-2d269ce87169",
   "metadata": {},
   "outputs": [],
   "source": [
    "@torch.no_grad()\n",
    "def estimate_loss(model, batch_size, eval_iters):\n",
    "    out = {}\n",
    "    model.eval()\n",
    "    for split in ['train', 'val']:\n",
    "        loss_list = torch.zeros(eval_iters)\n",
    "        for _ in range(eval_iters):\n",
    "            X, Y = get_batch(split, batch_size)\n",
    "            logits, losses = model(X, Y)\n",
    "    model.train()\n",
    "    return out"
   ]
  },
  {
   "cell_type": "code",
   "execution_count": 12,
   "id": "b9ab73f9-258e-4157-89c0-9161f6b8e898",
   "metadata": {
    "scrolled": true
   },
   "outputs": [
    {
     "name": "stdout",
     "output_type": "stream",
     "text": [
      "2.5596256256103516\n"
     ]
    }
   ],
   "source": [
    "m = LanguageModel(vocab_size, n_embd)\n",
    "m = m.to(device)\n",
    "\n",
    "optimizer = torch.optim.AdamW(m.parameters(), lr=1e-3)\n",
    "\n",
    "for iter_ in range(max_iters):\n",
    "    if iter_ % eval_iters == 0:\n",
    "        out = estimate_loss(m, batch_size)\n",
    "        print(f\"train loss {out['train']} val loss {out['val']}\")\n",
    "    xb, yb = get_batch('train', batch_size)\n",
    "    logits, losses = m(xb, yb)\n",
    "    optimizer.zero_grad()\n",
    "    losses.backward()\n",
    "    optimizer.step()\n",
    "print(losses.item())"
   ]
  },
  {
   "cell_type": "code",
   "execution_count": 13,
   "id": "5de8d4b5-a7c7-4985-bbf4-940f7460209f",
   "metadata": {
    "scrolled": true
   },
   "outputs": [
    {
     "name": "stdout",
     "output_type": "stream",
     "text": [
      "\n",
      "RNutheuc.\n",
      "PERUCCAOzPk'mas t l ses ostO:\n",
      "Fe k hy itueriinsiniw, le ed t n, fre m\n",
      "Pvese spe dilithe;:\n",
      "Yh payo mourthezJ\n",
      "olucy Lf q:\n",
      "\n",
      "Rooua'ororhlly thowuan ferhe tes S\n",
      "PTRUClir heticowhesldavage hy, osonaar whe, gant he a.\n",
      "Sh iorerewhawhe?\n",
      "Ne llUJMiniouthay, d, thend ut wesmal assthoupolest th can oworghe govlthy t ftT:\n",
      "Weu t w n blios ha wadorie chensthio hint mese-wither iy t,\n",
      "\n",
      "Qt thak\n",
      "-pake wiare t, o we, inoSouniolraintadais ilo fe hierhoWhent m fithie san.\n",
      "cyowet t kc\n",
      "\n",
      "\n",
      "ASTO: tr hanouris.\n",
      "\n",
      "ANIfou norulr wt cikul t ut fuiggce w oslusc, tou ar as, ft pt cisir more handanorrtoft cee, won IO:\n",
      "Sat and,\n",
      "\n",
      "Wes, kbely n thyawemy.!\n",
      "GANAorer'sou asglLECSMhot athin tu,\n",
      "Rje be t mane t ouporofu t tin athy Bme chlos piclla ifedrtow,\n",
      "YPNIORTNThe be hareallerlo fonshonk.\n",
      "\n",
      "\n",
      "TIHqAbenofrir ha\n",
      "anthest othaveal bendhe nl w\n",
      "Totakemy IO:\n",
      "y githladegs\n",
      "chend t unere cspen AOILulu an al minu mes st y ty ty,\n",
      "HIOangg y but wo gas Axrineshong.\n",
      "BlensUCBmane halanmerg ty.\n",
      "Whene me cl bla, s y t maasTon tod itheow\n"
     ]
    }
   ],
   "source": [
    "_in = torch.zeros((1, 1), dtype=torch.long)\n",
    "out = m.generate(_in)\n",
    "print(\"\".join(decode(out[0].tolist())))"
   ]
  },
  {
   "cell_type": "code",
   "execution_count": null,
   "id": "fd6cae19-849a-4c00-bc0a-fd0bf7486564",
   "metadata": {},
   "outputs": [],
   "source": []
  }
 ],
 "metadata": {
  "kernelspec": {
   "display_name": "Python 3 (ipykernel)",
   "language": "python",
   "name": "python3"
  },
  "language_info": {
   "codemirror_mode": {
    "name": "ipython",
    "version": 3
   },
   "file_extension": ".py",
   "mimetype": "text/x-python",
   "name": "python",
   "nbconvert_exporter": "python",
   "pygments_lexer": "ipython3",
   "version": "3.10.16"
  }
 },
 "nbformat": 4,
 "nbformat_minor": 5
}
