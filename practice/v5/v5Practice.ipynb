{
 "cells": [
  {
   "cell_type": "code",
   "execution_count": 1,
   "id": "27923a2e-5509-46f4-9ce5-c20e4e565bc1",
   "metadata": {},
   "outputs": [],
   "source": [
    "%load_ext autoreload\n",
    "%autoreload 2"
   ]
  },
  {
   "cell_type": "code",
   "execution_count": 10,
   "id": "ec86c82b-7541-4b7a-815b-95ccde967457",
   "metadata": {},
   "outputs": [
    {
     "name": "stdout",
     "output_type": "stream",
     "text": [
      "train loss 4.320181369781494 val loss 4.318542003631592\n",
      "train loss 2.6711764335632324 val loss 2.6737191677093506\n",
      "train loss 2.492539405822754 val loss 2.4986822605133057\n"
     ]
    },
    {
     "name": "stderr",
     "output_type": "stream",
     "text": [
      "\n",
      "KeyboardInterrupt\n",
      "\n"
     ]
    }
   ],
   "source": [
    "from pathlib import Path\n",
    "import torch\n",
    "\n",
    "DEVICE = 'cuda' if torch.cuda.is_available() else 'cpu'\n",
    "torch.manual_seed(1337)\n",
    "\n",
    "import v5_practice1 as vp\n",
    "\n",
    "# with Path(\"/root/language-modeling/input.txt\").open(\"r\", encoding=\"utf-8\") as f:\n",
    "with Path(\"../input.txt\").open(\"r\", encoding=\"utf-8\") as f:\n",
    "    text = f.read()\n",
    "\n",
    "block_size = 8\n",
    "batch_size = 32\n",
    "n_heads = 4\n",
    "n_embd = 32\n",
    "max_iters = 4000\n",
    "eval_iters = 200\n",
    "\n",
    "data = vp.Data(text)\n",
    "data.block_size = block_size\n",
    "data.batch_size = batch_size\n",
    "data.n_embd = n_embd\n",
    "\n",
    "# print(\"\".join(data.decode(data.encode(\"hi there\"))))\n",
    "# xb, yb = data.get_batch('train')\n",
    "# print(xb, yb)\n",
    "\n",
    "# m = vp.LanguageModel(n_embd, block_size, data.vocab_size, n_heads)\n",
    "# out = m.generate(torch.zeros((1, 1), dtype=torch.long))\n",
    "# # out\n",
    "# print(\"\".join(data.decode(out[0].tolist())))\n",
    "\n",
    "m = vp.LanguageModel(n_embd, block_size, data.vocab_size, n_heads)\n",
    "m = m.to(DEVICE)\n",
    "optimizer = torch.optim.AdamW(m.parameters(), lr=1e-3)\n",
    "for iter_ in range(max_iters):\n",
    "    if iter_ % eval_iters == 0:\n",
    "        out = data.estimate_loss(m, eval_iters)\n",
    "        print(f\"train loss {out['train']} val loss {out['val']}\")\n",
    "    xb, yb = data.get_batch('train')\n",
    "    logits, losses = m(xb, yb)\n",
    "    optimizer.zero_grad()\n",
    "    losses.backward()\n",
    "    optimizer.step()\n",
    "\n",
    "out = m.generate(torch.zeros((1, 1), dtype=torch.long))\n",
    "print(\"\".join(data.decode(out[0].tolist())))"
   ]
  },
  {
   "cell_type": "code",
   "execution_count": null,
   "id": "50906fbf-4eef-4b5f-b2fc-d3f3ff42373f",
   "metadata": {},
   "outputs": [],
   "source": [
    "# !pip list | grep torch"
   ]
  },
  {
   "cell_type": "code",
   "execution_count": null,
   "id": "dadab05a-499d-43db-8678-7d38ee0e1c23",
   "metadata": {},
   "outputs": [],
   "source": []
  }
 ],
 "metadata": {
  "kernelspec": {
   "display_name": "Python 3 (ipykernel)",
   "language": "python",
   "name": "python3"
  },
  "language_info": {
   "codemirror_mode": {
    "name": "ipython",
    "version": 3
   },
   "file_extension": ".py",
   "mimetype": "text/x-python",
   "name": "python",
   "nbconvert_exporter": "python",
   "pygments_lexer": "ipython3",
   "version": "3.10.16"
  }
 },
 "nbformat": 4,
 "nbformat_minor": 5
}
