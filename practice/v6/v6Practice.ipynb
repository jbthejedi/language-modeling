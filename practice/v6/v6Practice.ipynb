{
 "cells": [
  {
   "cell_type": "code",
   "execution_count": 1,
   "id": "27923a2e-5509-46f4-9ce5-c20e4e565bc1",
   "metadata": {},
   "outputs": [],
   "source": [
    "%load_ext autoreload\n",
    "%autoreload 2"
   ]
  },
  {
   "cell_type": "code",
   "execution_count": 3,
   "id": "dadab05a-499d-43db-8678-7d38ee0e1c23",
   "metadata": {},
   "outputs": [],
   "source": [
    "import v6_practice_data_loader as vp"
   ]
  },
  {
   "cell_type": "code",
   "execution_count": 4,
   "id": "f2b115e8-c922-4a1e-827f-708997947524",
   "metadata": {
    "scrolled": true
   },
   "outputs": [
    {
     "name": "stdout",
     "output_type": "stream",
     "text": [
      "Iter 0: train loss 4.3070 val loss 4.3003\n",
      "Iter 200: train loss 2.7990 val loss 2.8742\n",
      "Iter 400: train loss 2.6537 val loss 2.7164\n",
      "Iter 600: train loss 2.5602 val loss 2.6298\n",
      "Iter 800: train loss 2.5093 val loss 2.5873\n",
      "Iter 1000: train loss 2.4539 val loss 2.5532\n",
      "Iter 1200: train loss 2.4574 val loss 2.5372\n",
      "Iter 1400: train loss 2.4232 val loss 2.5114\n",
      "Iter 1600: train loss 2.4062 val loss 2.4963\n",
      "Iter 1800: train loss 2.3888 val loss 2.4712\n",
      "Iter 2000: train loss 2.3983 val loss 2.4805\n",
      "Iter 2200: train loss 2.3652 val loss 2.4295\n",
      "Iter 2400: train loss 2.3561 val loss 2.4218\n",
      "Iter 2600: train loss 2.3316 val loss 2.4335\n"
     ]
    },
    {
     "name": "stderr",
     "output_type": "stream",
     "text": [
      "\n",
      "KeyboardInterrupt\n",
      "\n"
     ]
    }
   ],
   "source": [
    "vp.main()"
   ]
  }
 ],
 "metadata": {
  "kernelspec": {
   "display_name": "Python 3 (ipykernel)",
   "language": "python",
   "name": "python3"
  },
  "language_info": {
   "codemirror_mode": {
    "name": "ipython",
    "version": 3
   },
   "file_extension": ".py",
   "mimetype": "text/x-python",
   "name": "python",
   "nbconvert_exporter": "python",
   "pygments_lexer": "ipython3",
   "version": "3.10.16"
  }
 },
 "nbformat": 4,
 "nbformat_minor": 5
}
