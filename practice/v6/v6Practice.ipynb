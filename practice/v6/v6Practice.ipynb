{
 "cells": [
  {
   "cell_type": "code",
   "execution_count": 1,
   "id": "27923a2e-5509-46f4-9ce5-c20e4e565bc1",
   "metadata": {},
   "outputs": [],
   "source": [
    "%load_ext autoreload\n",
    "%autoreload 2"
   ]
  },
  {
   "cell_type": "code",
   "execution_count": 2,
   "id": "dadab05a-499d-43db-8678-7d38ee0e1c23",
   "metadata": {},
   "outputs": [],
   "source": [
    "import v6_practice_data_loader as vp"
   ]
  },
  {
   "cell_type": "code",
   "execution_count": 6,
   "id": "f2b115e8-c922-4a1e-827f-708997947524",
   "metadata": {
    "scrolled": true
   },
   "outputs": [
    {
     "name": "stdout",
     "output_type": "stream",
     "text": [
      "Iter 0: train loss 4.3079 val loss 4.3245\n",
      "Iter 200: train loss 2.7090 val loss 2.6854\n",
      "Iter 400: train loss 2.5266 val loss 2.5095\n",
      "Iter 600: train loss 2.4388 val loss 2.4407\n",
      "Iter 800: train loss 2.3986 val loss 2.3971\n",
      "Iter 1000: train loss 2.3566 val loss 2.3587\n",
      "Iter 1200: train loss 2.3253 val loss 2.3286\n",
      "Iter 1400: train loss 2.3102 val loss 2.3038\n",
      "Iter 1600: train loss 2.2799 val loss 2.2818\n",
      "Iter 1800: train loss 2.2546 val loss 2.2562\n",
      "Iter 2000: train loss 2.2437 val loss 2.2427\n",
      "Iter 2200: train loss 2.2354 val loss 2.2302\n",
      "Iter 2400: train loss 2.2120 val loss 2.2149\n",
      "Iter 2600: train loss 2.2180 val loss 2.2137\n",
      "Iter 2800: train loss 2.1907 val loss 2.1997\n",
      "Iter 3000: train loss 2.1953 val loss 2.1905\n",
      "Iter 3200: train loss 2.1872 val loss 2.1860\n",
      "Iter 3400: train loss 2.1708 val loss 2.1769\n",
      "Iter 3600: train loss 2.1718 val loss 2.1717\n",
      "Iter 3800: train loss 2.1605 val loss 2.1641\n",
      "Iter 4000: train loss 2.1550 val loss 2.1674\n",
      "Iter 4200: train loss 2.1373 val loss 2.1598\n",
      "Iter 4400: train loss 2.1408 val loss 2.1489\n",
      "Iter 4600: train loss 2.1297 val loss 2.1477\n",
      "Iter 4800: train loss 2.1328 val loss 2.1457\n",
      "\n",
      "Bo now bonath to with por ane metth.\n",
      "\n",
      "CLOR:\n",
      "Nor Parth aguld, he frow itthe land a dee, ones. IF my shor, thour I EIO:\n",
      "Fore dored oven he\n",
      "Forst I sawe those?-\n",
      "Goqueviondly yyou spast?  I that sill: therain.\n",
      "\n",
      "For dal gole sit heir kis ethim kn a'l me cour fraser dintthe lice theels.\n",
      "\n",
      "\n",
      "DUKERE:\n",
      "Ance weathes?\n",
      "Whe fenios on heeren. Hove thour Oit, you DiE:\n",
      "For and my as I sa arure of eabs sweres. GLARCETH:\n",
      "I and mist and wace:\n",
      "Well: best,\n",
      "Al sacon: in bo thit del.\n",
      "He Dill, com nothe at sherataen,\n",
      "Fare? the shat you?-\n",
      "Thang kitter he soe kir, thou your by to of houlf, verint onm dove happone ars seissirs, I she sior,\n",
      "BLill my neant seatusive and his and than is as with sask. I prour too-what thim my:\n",
      "Hout cafe whir ave to be in you all dery his brid ace one kig icd cou am cenr cone gouls, haliond to sord:\n",
      "Te the ans sear\n",
      "Ffroshing weast laly retazaghtiont more.\n",
      "AMBESSLINTEST:\n",
      "I conee, Of ich thave in's have, deattly nou ing theare.\n",
      "\n",
      "KELARGBELIUS:\n",
      "Bopaly,\n",
      "To fore end war I wace thaimant!\n",
      "\n",
      "RLAR\n"
     ]
    }
   ],
   "source": [
    "vp.main()"
   ]
  },
  {
   "cell_type": "code",
   "execution_count": null,
   "id": "edf0da77-4647-4a42-8130-4f04d2f36e36",
   "metadata": {},
   "outputs": [],
   "source": []
  }
 ],
 "metadata": {
  "kernelspec": {
   "display_name": "Python 3 (ipykernel)",
   "language": "python",
   "name": "python3"
  },
  "language_info": {
   "codemirror_mode": {
    "name": "ipython",
    "version": 3
   },
   "file_extension": ".py",
   "mimetype": "text/x-python",
   "name": "python",
   "nbconvert_exporter": "python",
   "pygments_lexer": "ipython3",
   "version": "3.10.16"
  }
 },
 "nbformat": 4,
 "nbformat_minor": 5
}
