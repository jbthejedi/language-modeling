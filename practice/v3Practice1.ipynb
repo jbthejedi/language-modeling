{
 "cells": [
  {
   "cell_type": "code",
   "execution_count": 4,
   "id": "27923a2e-5509-46f4-9ce5-c20e4e565bc1",
   "metadata": {},
   "outputs": [],
   "source": [
    "%load_ext autoreload\n",
    "%autoreload 2"
   ]
  },
  {
   "cell_type": "code",
   "execution_count": 12,
   "id": "089b6ead-17e9-4d4c-8c9b-6c5114a52969",
   "metadata": {},
   "outputs": [],
   "source": [
    "import v3_practice1 as vp"
   ]
  },
  {
   "cell_type": "code",
   "execution_count": null,
   "id": "577b2146-913b-4646-94ae-c7ba3a4e2500",
   "metadata": {},
   "outputs": [],
   "source": [
    "from torch import nn\n",
    "from torch.nn import functional as F\n",
    "from pathlib import Path\n",
    "\n",
    "import torch\n",
    "\n",
    "device = 'cuda' if torch.cuda.is_available() else 'cpu'\n",
    "torch.manual_seed(1337)"
   ]
  },
  {
   "cell_type": "code",
   "execution_count": null,
   "id": "989a50bf-12e5-4d62-a04b-4ae87e185a93",
   "metadata": {},
   "outputs": [],
   "source": [
    "B, T, C = 4, 8, 2\n",
    "x = torch.randn(B, T, C)\n",
    "\n",
    "tril = torch.tril(torch.ones((T, T)))\n",
    "wei = torch.zeros(T, T)\n",
    "wei = wei.masked_fill(tril == 0, float('-inf'))\n",
    "wei = F.softmax(wei, dim=-1)\n",
    "out = wei @ x\n",
    "out"
   ]
  },
  {
   "cell_type": "code",
   "execution_count": 16,
   "id": "f671e9f9-b477-4137-8041-91a3d17ce861",
   "metadata": {
    "scrolled": true
   },
   "outputs": [
    {
     "name": "stdout",
     "output_type": "stream",
     "text": [
      "hii there\n",
      "train loss 4.279041290283203 val loss 4.279831409454346\n",
      "train loss 3.408489942550659 val loss 3.375056266784668\n",
      "train loss 3.2733266353607178 val loss 3.284576177597046\n",
      "train loss 3.256824254989624 val loss 3.2544186115264893\n",
      "train loss 3.1889498233795166 val loss 3.174337863922119\n",
      "train loss 3.1655499935150146 val loss 3.1556408405303955\n",
      "train loss 3.0657315254211426 val loss 3.0860817432403564\n",
      "train loss 2.994304895401001 val loss 3.0614089965820312\n",
      "train loss 2.9554271697998047 val loss 3.0082383155822754\n",
      "train loss 2.9002997875213623 val loss 2.988285541534424\n",
      "train loss 2.8851699829101562 val loss 2.951796770095825\n",
      "train loss 2.828981399536133 val loss 2.8610098361968994\n",
      "train loss 2.775466203689575 val loss 2.8556602001190186\n",
      "train loss 2.771843194961548 val loss 2.7978570461273193\n",
      "train loss 2.736936330795288 val loss 2.8142714500427246\n",
      "train loss 2.7151148319244385 val loss 2.782299757003784\n",
      "train loss 2.7106733322143555 val loss 2.74623966217041\n",
      "train loss 2.7116730213165283 val loss 2.749530553817749\n",
      "train loss 2.6510848999023438 val loss 2.724320888519287\n",
      "train loss 2.664191961288452 val loss 2.7122015953063965\n",
      "final loss 2.2113516330718994\n",
      "\n",
      "TIt ielisy here, id w,.\n",
      "\n",
      "Tja fher iswmer ?\n",
      "P\n",
      "A:.\n",
      "TRNP:\n",
      "Bhhonve igtar ns fesdot bat sy', ec'P, ace, aer ivs oayon;,\n",
      "T taramr h'o atletaa asse h adu.\n",
      "TAN'\n",
      "AN\n",
      "HTG:\n",
      "JANO:\n",
      "Io:\n",
      "Fo$hiy, sal j,,\n",
      "\n",
      "SG, I\n",
      "TNoowig\n",
      "P!CPFitl tn fGO\n",
      "TNANTALNh-Of.A\n",
      ",\n",
      "R-.\n",
      "ATTE,\n",
      "RhB.\n",
      "PDRCauof as'w te w, drED U\n",
      "\n",
      "I\n",
      "Whho.\n",
      "De y eii;\n",
      "Whe ra?\n",
      "\n",
      "O:\n",
      "\n",
      "BO s'Yml orreig ttox:\n",
      "Bhh tad tanvatere hece Ler ve.\n",
      "Whalt w.\n",
      "RI-h wel. ong he-Je,,\n",
      "Ca te lisodinfhilirtoo ok onnd B,\n",
      "Whiyowesy sosiidt w fausr a h?\n",
      "Whe.\n",
      "hicanac!e;\n",
      "TWhI\n",
      "STrinnitiid\n",
      "W iunag atirrilI:\n",
      "\n",
      "Whtr, at yad, at;\n",
      "F had n? taitm.\n",
      "yuisnp hc fogrip;\n",
      "ANANAETY on.\n",
      "TANowhial$e yl wittth hinatasas ghhormnler sf n'it owurrm e,\n",
      "Tm\n",
      "rlouneotape tbhedrrstn th\n",
      "G, et k ciodA:\n",
      "G. atad h hmWhoourlunt nga sr,\n",
      "T.\n",
      "\n",
      "EO;OQe, cosod tiho.\n",
      "\n",
      "Wh\n",
      "Cyass.\n",
      "ETt, azh cylathe k\n",
      "onswourrt er crtthe-i mse.\n",
      "\n",
      "K soRG'Ie;\n",
      "Woe dsecsoit, s, cco\n",
      "A:\n",
      "MYes, he altl weprme,\n",
      "Hho cf, he hoov\n",
      "Bas, wranne turiietset tk\n",
      "O\n",
      "Kity sis waf sse itoyh e ta rn b, hirloef, fokinuter mr,, pate:\n",
      "\n",
      "WhhhwANruy y\n",
      "T; to:\n",
      "Rq-! MIucie cuduare s\n"
     ]
    }
   ],
   "source": [
    "vp.main()"
   ]
  },
  {
   "cell_type": "code",
   "execution_count": null,
   "id": "9ac3ad11-d125-4043-b43f-c21e28d18f22",
   "metadata": {},
   "outputs": [],
   "source": []
  }
 ],
 "metadata": {
  "kernelspec": {
   "display_name": "Python 3 (ipykernel)",
   "language": "python",
   "name": "python3"
  },
  "language_info": {
   "codemirror_mode": {
    "name": "ipython",
    "version": 3
   },
   "file_extension": ".py",
   "mimetype": "text/x-python",
   "name": "python",
   "nbconvert_exporter": "python",
   "pygments_lexer": "ipython3",
   "version": "3.10.16"
  }
 },
 "nbformat": 4,
 "nbformat_minor": 5
}
