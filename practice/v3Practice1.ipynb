{
 "cells": [
  {
   "cell_type": "code",
   "execution_count": 3,
   "id": "27923a2e-5509-46f4-9ce5-c20e4e565bc1",
   "metadata": {},
   "outputs": [],
   "source": [
    "%load_ext autoreload\n",
    "%autoreload 2"
   ]
  },
  {
   "cell_type": "code",
   "execution_count": 4,
   "id": "089b6ead-17e9-4d4c-8c9b-6c5114a52969",
   "metadata": {},
   "outputs": [],
   "source": [
    "import v3_practice2 as vp"
   ]
  },
  {
   "cell_type": "code",
   "execution_count": null,
   "id": "577b2146-913b-4646-94ae-c7ba3a4e2500",
   "metadata": {},
   "outputs": [],
   "source": [
    "from torch import nn\n",
    "from torch.nn import functional as F\n",
    "from pathlib import Path\n",
    "\n",
    "import torch\n",
    "\n",
    "device = 'cuda' if torch.cuda.is_available() else 'cpu'\n",
    "torch.manual_seed(1337)"
   ]
  },
  {
   "cell_type": "code",
   "execution_count": 14,
   "id": "989a50bf-12e5-4d62-a04b-4ae87e185a93",
   "metadata": {},
   "outputs": [],
   "source": [
    "# B, T, C = 4, 8, 2\n",
    "# x = torch.randn(B, T, C)\n",
    "\n",
    "# tril = torch.tril(torch.ones((T, T)))\n",
    "# wei = torch.zeros(T, T)\n",
    "# wei = wei.masked_fill(tril == 0, float('-inf'))\n",
    "# wei = F.softmax(wei, dim=-1)\n",
    "# out = wei @ x\n",
    "# # out"
   ]
  },
  {
   "cell_type": "code",
   "execution_count": null,
   "id": "f671e9f9-b477-4137-8041-91a3d17ce861",
   "metadata": {
    "scrolled": true
   },
   "outputs": [],
   "source": [
    "vp.main()"
   ]
  },
  {
   "cell_type": "code",
   "execution_count": 57,
   "id": "37d57eba-765e-4f49-aa2a-bfc5471f5e5c",
   "metadata": {
    "scrolled": true
   },
   "outputs": [
    {
     "name": "stdout",
     "output_type": "stream",
     "text": [
      "hii there\n",
      "train loss 4.147986888885498 val loss 4.1398606300354\n",
      "train loss 3.379493474960327 val loss 3.3399853706359863\n",
      "train loss 3.275667667388916 val loss 3.276975154876709\n",
      "train loss 3.2453906536102295 val loss 3.256779432296753\n",
      "train loss 3.1680285930633545 val loss 3.155879259109497\n",
      "train loss 3.1143910884857178 val loss 3.11234974861145\n",
      "train loss 2.993803024291992 val loss 3.0235178470611572\n",
      "train loss 2.930802345275879 val loss 2.985929012298584\n",
      "train loss 2.876814365386963 val loss 2.9640724658966064\n",
      "train loss 2.8205606937408447 val loss 2.9118146896362305\n",
      "train loss 2.8193318843841553 val loss 2.8951222896575928\n",
      "train loss 2.7962777614593506 val loss 2.831439733505249\n",
      "train loss 2.7553305625915527 val loss 2.827012300491333\n",
      "train loss 2.721174955368042 val loss 2.764580011367798\n",
      "train loss 2.711103916168213 val loss 2.779829740524292\n",
      "train loss 2.6881885528564453 val loss 2.763171911239624\n",
      "train loss 2.663710594177246 val loss 2.734034776687622\n",
      "train loss 2.6728570461273193 val loss 2.7146356105804443\n",
      "train loss 2.6171112060546875 val loss 2.715850830078125\n",
      "train loss 2.650923728942871 val loss 2.680082321166992\n",
      "final loss 2.6101653575897217\n",
      "\n",
      "TNITR:\n",
      "H\n",
      "\n",
      "UFWhothaut b, viouelper?\n",
      "I\n",
      "W hhI chor taf po akaadoghsed ra.\n",
      "Shiwisir! nist fhshthel,\n",
      ":\n",
      "\n",
      "RRCIi me'LSatrso?\n",
      "TTNZ Is\n",
      "K NdsPsen'\n",
      "\n",
      "Aproth haumesee.\n",
      "\n",
      "A liuetAse b nl'qs lthh worthenn thad sibliin l s tharhhas ,herarat mtudre,\n",
      "th ukeindatw ci nd kathhiun s sonokte nelo nnthradavelikelllly 'd., w:\n",
      "TTB\n",
      "O\n",
      "SBVFhLuru! cBVhoumak u der sororursareras hil;\n",
      "BAiliwaxlto keirurlrd, u naorlnld hhsel fore send m pesemibun nta.op wokodlalm re wyapsth rs:he yokater? atyhor sphureephirsaen' t chagoawh woransee t.\n",
      "hhauutoompil,\n",
      "And nroxosoma git,,\n",
      "Gal\n",
      "H\n",
      "acAACWhiyes n s nsue nl vulfernl coqe, thatheveyo sa ge thhan beeaste f; s yomishee lthann,e T-atas cB,,\n",
      "Ehe,\n",
      "I\n",
      "as Dotor meo pes anthons cu-oommJu bhe watharoitev vy oryefeld n mtha sev thend la vl. ghou meiclnns wany I n peroo ewoe, su ouuthsin: fee, I\n",
      "Rser prf mabot wteg Pn,\n",
      "AU watatoohr  ovifce twe lispae ns ncon  mtoere dar ghar m\n",
      "Iawt\n",
      "A me Vhlmero taverir m blrm heruuost n selthe tor ad ghon thocin kunthe wogae lrniyowhasotupo thhhety syhed\n",
      "Twh\n"
     ]
    }
   ],
   "source": [
    "import v3_practice1 as v31\n",
    "v31.main()"
   ]
  },
  {
   "cell_type": "code",
   "execution_count": null,
   "id": "7fe62ec9-43ae-4365-9e50-b8daf9cca444",
   "metadata": {},
   "outputs": [],
   "source": []
  }
 ],
 "metadata": {
  "kernelspec": {
   "display_name": "Python 3 (ipykernel)",
   "language": "python",
   "name": "python3"
  },
  "language_info": {
   "codemirror_mode": {
    "name": "ipython",
    "version": 3
   },
   "file_extension": ".py",
   "mimetype": "text/x-python",
   "name": "python",
   "nbconvert_exporter": "python",
   "pygments_lexer": "ipython3",
   "version": "3.10.16"
  }
 },
 "nbformat": 4,
 "nbformat_minor": 5
}
