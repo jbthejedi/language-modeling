{
 "cells": [
  {
   "cell_type": "code",
   "execution_count": 1,
   "id": "27923a2e-5509-46f4-9ce5-c20e4e565bc1",
   "metadata": {},
   "outputs": [],
   "source": [
    "%load_ext autoreload\n",
    "%autoreload 2"
   ]
  },
  {
   "cell_type": "code",
   "execution_count": 11,
   "id": "089b6ead-17e9-4d4c-8c9b-6c5114a52969",
   "metadata": {},
   "outputs": [],
   "source": [
    "import v4_practice1 as vp"
   ]
  },
  {
   "cell_type": "code",
   "execution_count": 14,
   "id": "eac92db8-d8fd-4b3e-ad8e-dd57759f7695",
   "metadata": {},
   "outputs": [
    {
     "name": "stdout",
     "output_type": "stream",
     "text": [
      "train loss 4.6399760246276855 val loss 4.636257171630859\n",
      "train loss 2.5780813694000244 val loss 2.598191261291504\n",
      "train loss 2.4482009410858154 val loss 2.4412193298339844\n",
      "train loss 2.3691158294677734 val loss 2.3616418838500977\n",
      "train loss 2.301905632019043 val loss 2.304816961288452\n",
      "train loss 2.2577779293060303 val loss 2.2735862731933594\n",
      "train loss 2.238006830215454 val loss 2.253694772720337\n",
      "train loss 2.2012360095977783 val loss 2.2285358905792236\n",
      "train loss 2.1767923831939697 val loss 2.2059853076934814\n",
      "train loss 2.1573073863983154 val loss 2.201936721801758\n",
      "train loss 2.1630637645721436 val loss 2.162207841873169\n",
      "train loss 2.145247459411621 val loss 2.177823305130005\n",
      "train loss 2.1017775535583496 val loss 2.1533920764923096\n",
      "train loss 2.10653018951416 val loss 2.156243324279785\n",
      "train loss 2.08439302444458 val loss 2.1340324878692627\n",
      "train loss 2.077777624130249 val loss 2.123203754425049\n",
      "train loss 2.080202579498291 val loss 2.1531646251678467\n",
      "train loss 2.0481626987457275 val loss 2.091069221496582\n",
      "train loss 2.052565574645996 val loss 2.119110345840454\n",
      "train loss 2.0389482975006104 val loss 2.116379976272583\n",
      "final loss 2.0656135082244873\n",
      "\n",
      "EDY:\n",
      "Thind comess\n",
      "Alporemy's me pouse be writerthy grothew sladTiund have to shap Rompivest tacy verrainis the tingue mult in suty, ift your stay goods\n",
      "Yads,\n",
      "Of\n",
      "But tome\n",
      "How reasy\n",
      "Whick her thand bogk, and but, that prownst the land\n",
      "Whuse coufell, thou daute yep, not ent in to voness Tichowdriend,\n",
      "And to thewing's love,\n",
      "I late, by fould not.\n",
      "Slow parm in; a hig if my laim sleat's my fort'st gontry comull ufal sipiss,\n",
      "And, god pronecke faRch inty, a coobled do.\n",
      "\n",
      "ETHENNIUS:\n",
      "Puimp\n",
      "To than slady Clase, olt heres eary me pride his shal betned dey of untend purrasion to-bears.'s awn noot wath on tart.\n",
      "\n",
      "BRUCESCARDY VINCENTIO:\n",
      "You my\n",
      "HE she with abs parlive, to of hie bast lives, thy the a con; shoow\n",
      "Wherd incuse by proc if here'd ven a whould to thent.\n",
      "\n",
      "GRUEET:\n",
      "stels and morn tuld to count.\n",
      "\n",
      "Yew reeque pus a coinfur. My re't wes, hip a math; that to chis cary,'s, thereep yits let folld oft go, prey, Hary seet bare be hubnd outh mailt must whoulds dout ans.\n",
      "\n",
      "GHE:\n",
      "My cook my on, their\n",
      "cant,\n",
      "at \n"
     ]
    }
   ],
   "source": [
    "vp.main()"
   ]
  },
  {
   "cell_type": "code",
   "execution_count": null,
   "id": "07a4f08c-c323-4df4-bca0-0b8f9dcdae4b",
   "metadata": {},
   "outputs": [],
   "source": []
  }
 ],
 "metadata": {
  "kernelspec": {
   "display_name": "Python 3 (ipykernel)",
   "language": "python",
   "name": "python3"
  },
  "language_info": {
   "codemirror_mode": {
    "name": "ipython",
    "version": 3
   },
   "file_extension": ".py",
   "mimetype": "text/x-python",
   "name": "python",
   "nbconvert_exporter": "python",
   "pygments_lexer": "ipython3",
   "version": "3.10.16"
  }
 },
 "nbformat": 4,
 "nbformat_minor": 5
}
