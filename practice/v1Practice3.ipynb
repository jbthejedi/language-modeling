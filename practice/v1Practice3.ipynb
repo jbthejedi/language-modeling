{
 "cells": [
  {
   "cell_type": "code",
   "execution_count": 1,
   "id": "18fec580-6878-4a63-a9a3-8c83157f7bd1",
   "metadata": {},
   "outputs": [],
   "source": [
    "import torch\n",
    "import torch.nn.functional as F\n",
    "from torch import nn\n",
    "from pathlib import Path"
   ]
  },
  {
   "cell_type": "code",
   "execution_count": 2,
   "id": "2302d986-f2d0-43f0-907f-0ca6c8f3a64e",
   "metadata": {},
   "outputs": [],
   "source": [
    "torch.manual_seed(1337)\n",
    "device = 'cuda' if torch.cuda.is_available() else 'cpu'"
   ]
  },
  {
   "cell_type": "code",
   "execution_count": 3,
   "id": "576633d1-eb28-492f-9c0b-04b18e692cc4",
   "metadata": {},
   "outputs": [],
   "source": [
    "with Path(\"input.txt\").open(\"r\", encoding='utf-8') as f:\n",
    "    text = f.read()\n",
    "\n",
    "vocab = sorted(list(set(text)))\n",
    "stoi = { ch: i for i, ch in enumerate(vocab) }\n",
    "itos = { i: ch for i, ch in enumerate(vocab) }\n",
    "encode = lambda x: [stoi[s] for s in x]\n",
    "decode = lambda x: [itos[s] for s in x]"
   ]
  },
  {
   "cell_type": "code",
   "execution_count": 4,
   "id": "dcb5b280-c663-4e28-a5c7-1add17c75bab",
   "metadata": {},
   "outputs": [
    {
     "name": "stdout",
     "output_type": "stream",
     "text": [
      "hii there\n"
     ]
    }
   ],
   "source": [
    "print(\"\".join(decode(encode(\"hii there\"))))"
   ]
  },
  {
   "cell_type": "code",
   "execution_count": 5,
   "id": "68f9bc61-0db4-4505-9086-1212f4b92e01",
   "metadata": {},
   "outputs": [],
   "source": [
    "data = torch.tensor(encode(text), dtype=torch.long)\n",
    "n = int(0.9 * len(data))\n",
    "train_data = data[:n]\n",
    "val_data = data[n:]"
   ]
  },
  {
   "cell_type": "code",
   "execution_count": 6,
   "id": "93cf0418-fe89-41de-a6b2-d62087f92941",
   "metadata": {},
   "outputs": [],
   "source": [
    "vocab_size = len(vocab)\n",
    "batch_size = 4\n",
    "block_size = 8\n",
    "n_embd = 16\n",
    "\n",
    "max_iters = 3000\n",
    "eval_iters = 200"
   ]
  },
  {
   "cell_type": "code",
   "execution_count": 7,
   "id": "74475911-7039-4b65-a53a-284dab289154",
   "metadata": {},
   "outputs": [
    {
     "data": {
      "text/plain": [
       "(tensor([[24, 43, 58,  5, 57,  1, 46, 43],\n",
       "         [44, 53, 56,  1, 58, 46, 39, 58],\n",
       "         [52, 58,  1, 58, 46, 39, 58,  1],\n",
       "         [25, 17, 27, 10,  0, 21,  1, 54]]),\n",
       " tensor([[43, 58,  5, 57,  1, 46, 43, 39],\n",
       "         [53, 56,  1, 58, 46, 39, 58,  1],\n",
       "         [58,  1, 58, 46, 39, 58,  1, 46],\n",
       "         [17, 27, 10,  0, 21,  1, 54, 39]]))"
      ]
     },
     "execution_count": 7,
     "metadata": {},
     "output_type": "execute_result"
    }
   ],
   "source": [
    "def get_batch(split):\n",
    "    data = train_data if split == 'train' else val_data\n",
    "    ix = torch.randint(len(data) - block_size, (batch_size,))\n",
    "    x = torch.stack([data[i:i+block_size] for i in ix])\n",
    "    y = torch.stack([data[i+1:i+block_size+1] for i in ix])\n",
    "    x, y = x.to(device), y.to(device)\n",
    "    return x, y\n",
    "\n",
    "get_batch('train')"
   ]
  },
  {
   "cell_type": "code",
   "execution_count": 8,
   "id": "d3a505a9-81cb-4212-ad68-9611ed79e098",
   "metadata": {},
   "outputs": [],
   "source": [
    "class BLM(nn.Module):\n",
    "    def __init__(self):\n",
    "        super().__init__()\n",
    "        self.token_embedding_table = nn.Embedding(vocab_size, n_embd)\n",
    "        self.lm_head = nn.Linear(n_embd, vocab_size)\n",
    "\n",
    "    def forward(self, idx, targets=None):\n",
    "        tok_emb = self.token_embedding_table(idx)\n",
    "        logits = self.lm_head(tok_emb)\n",
    "        if targets is None:\n",
    "            loss = None\n",
    "        else:\n",
    "            B,T,C = logits.shape\n",
    "            logits = logits.view(B*T,C)\n",
    "            targets = targets.view(B*T)\n",
    "            loss = F.cross_entropy(logits, targets) \n",
    "        return logits, loss\n",
    "        \n",
    "    def generate(self, idx, max_new_tokens=100):\n",
    "        for i in range(max_new_tokens):\n",
    "            logits, _ = self(idx)\n",
    "            logits = logits[:,-1,:]\n",
    "            probs = F.softmax(logits, dim=-1)\n",
    "            idx_next = torch.multinomial(probs, num_samples=1)\n",
    "            idx = torch.cat([idx, idx_next], dim=1)\n",
    "        return idx"
   ]
  },
  {
   "cell_type": "code",
   "execution_count": 9,
   "id": "d87f99f9-0803-488c-82c1-ec2e9a56522b",
   "metadata": {},
   "outputs": [],
   "source": [
    "xb, yb = get_batch('train')"
   ]
  },
  {
   "cell_type": "code",
   "execution_count": 10,
   "id": "0f0227f4-07e4-4739-8133-e2e24edd40d7",
   "metadata": {},
   "outputs": [],
   "source": [
    "model = BLM()\n",
    "m = model.to(device)"
   ]
  },
  {
   "cell_type": "code",
   "execution_count": 11,
   "id": "fb55218f-c962-4db3-90ca-b9732335dbdb",
   "metadata": {},
   "outputs": [],
   "source": [
    "logits, loss = m(xb, yb)"
   ]
  },
  {
   "cell_type": "code",
   "execution_count": 12,
   "id": "1028dd2b-6f82-4c92-aacb-5fd08b09f93d",
   "metadata": {},
   "outputs": [
    {
     "name": "stdout",
     "output_type": "stream",
     "text": [
      "\n",
      "iWwXx!p''EetarY\n",
      ";lSgQXLigIPQsWBzd.'bD:KroIAA?JyuoaOc.uCnNT,sJm:olnkQXxfILy,Afy$PWibDHS\n",
      "'YZt&grKiqWaZ\n"
     ]
    }
   ],
   "source": [
    "in_ = torch.zeros((1, 1), dtype=torch.long)\n",
    "out = m.generate(in_, max_new_tokens=100)\n",
    "print(\"\".join(decode(out[0].tolist())))"
   ]
  },
  {
   "cell_type": "code",
   "execution_count": 13,
   "id": "10a12523-fc22-4e28-985f-4bfc182a3798",
   "metadata": {},
   "outputs": [],
   "source": [
    "@torch.no_grad()\n",
    "def estimate_loss():\n",
    "    out = {}\n",
    "    model.eval()\n",
    "    for split in ['train', 'val']:\n",
    "        losses = torch.zeros(eval_iters) \n",
    "        for k in range(eval_iters):\n",
    "            X, Y = get_batch(split)\n",
    "            logits, loss = model(X, Y)\n",
    "            losses[k] = loss.item()\n",
    "        out[split] = losses.mean()\n",
    "    model.train()\n",
    "    return out"
   ]
  },
  {
   "cell_type": "code",
   "execution_count": 14,
   "id": "7b1c3217-6afd-4f14-9d9f-e2687ea24ca1",
   "metadata": {
    "scrolled": true
   },
   "outputs": [
    {
     "name": "stdout",
     "output_type": "stream",
     "text": [
      "step 0 train_loss 4.2814, val loss 4.2810\n",
      "step 200 train_loss 3.7105, val loss 3.7123\n",
      "step 400 train_loss 3.3813, val loss 3.3753\n",
      "step 600 train_loss 3.1685, val loss 3.1825\n",
      "step 800 train_loss 3.0090, val loss 2.9845\n",
      "step 1000 train_loss 2.9172, val loss 2.8616\n",
      "step 1200 train_loss 2.8120, val loss 2.8034\n",
      "step 1400 train_loss 2.7681, val loss 2.7794\n",
      "step 1600 train_loss 2.7062, val loss 2.7132\n",
      "step 1800 train_loss 2.6989, val loss 2.6880\n",
      "step 2000 train_loss 2.6645, val loss 2.6871\n",
      "step 2200 train_loss 2.6574, val loss 2.6577\n",
      "step 2400 train_loss 2.6292, val loss 2.6300\n",
      "step 2600 train_loss 2.6162, val loss 2.6734\n",
      "step 2800 train_loss 2.5837, val loss 2.6314\n",
      "2.437225818634033\n"
     ]
    }
   ],
   "source": [
    "optimizer = torch.optim.AdamW(m.parameters(), lr=1e-3)\n",
    "for iter_ in range(max_iters):\n",
    "    if iter_ % eval_iters == 0:\n",
    "        losses = estimate_loss()\n",
    "        print(f\"step {iter_} train_loss {losses['train']:.4f}, val loss {losses['val']:.4f}\")\n",
    "    xb, yb = get_batch('train')\n",
    "    logits, loss = m(xb, yb)\n",
    "    optimizer.zero_grad(set_to_none=True)\n",
    "    loss.backward()\n",
    "    optimizer.step()\n",
    "print(loss.item())"
   ]
  },
  {
   "cell_type": "code",
   "execution_count": null,
   "id": "4dcf9118-c63a-4bfa-8ddc-80048873f92d",
   "metadata": {},
   "outputs": [],
   "source": []
  }
 ],
 "metadata": {
  "kernelspec": {
   "display_name": "Python 3 (ipykernel)",
   "language": "python",
   "name": "python3"
  },
  "language_info": {
   "codemirror_mode": {
    "name": "ipython",
    "version": 3
   },
   "file_extension": ".py",
   "mimetype": "text/x-python",
   "name": "python",
   "nbconvert_exporter": "python",
   "pygments_lexer": "ipython3",
   "version": "3.10.16"
  }
 },
 "nbformat": 4,
 "nbformat_minor": 5
}
